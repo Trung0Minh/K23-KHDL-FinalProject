{
 "cells": [
  {
   "cell_type": "markdown",
   "id": "6d53898a",
   "metadata": {},
   "source": [
    "# **ĐỒ ÁN CUỐI KÌ: LẬP TRÌNH CHO KHOA HỌC DỮ LIỆU**\n",
    "---"
   ]
  },
  {
   "cell_type": "markdown",
   "id": "4429159e",
   "metadata": {},
   "source": [
    "## **GVHD:** *Phạm Trọng Nghĩa - Lê Nhựt Nam - Nguyễn Thanh Tình*"
   ]
  },
  {
   "cell_type": "markdown",
   "id": "043ab200",
   "metadata": {},
   "source": [
    "## **NHÓM: NTK** \n",
    "23122011 - Đoàn Hải Nam\n",
    "\n",
    "23122014 - Hoàng Minh Trung\n",
    "\n",
    "23122036 - Nguyễn Ngọc Khoa\n",
    "\n",
    "---"
   ]
  },
  {
   "cell_type": "markdown",
   "id": "345f6bb5",
   "metadata": {},
   "source": [
    "## **ĐỀ TÀI:** PHÂN TÍCH CÁC BẢN NHẠC ĐƯỢC NGHE NHIỀU NHẤT TRÊN SPOTIFY NĂM 2024\n",
    "\n",
    "---"
   ]
  },
  {
   "cell_type": "markdown",
   "id": "48e9b02d",
   "metadata": {},
   "source": [
    "### **Tổng quan về đề tài**\n",
    "\n",
    "Bộ dữ liệu này tổng hợp đầy đủ các bài hát được nghe nhiều nhất trên Spotify trong năm 2024, mang đến cái nhìn sâu sắc về đặc điểm, mức độ phổ biến và sự hiện diện của từng ca khúc trên nhiều nền tảng âm nhạc trực tuyến. Đây là nguồn thông tin hữu ích cho các nhà phân tích, người yêu nhạc và giới chuyên môn trong ngành công nghiệp âm nhạc. Dữ liệu bao gồm các thông tin chi tiết như tên bài hát, nghệ sĩ, ngày phát hành, mã ISRC, số lượt nghe, cùng sự xuất hiện trên các nền tảng như YouTube, TikTok và các kênh truyền thông khác.\n",
    "\n",
    "**Lý do chọn đề tài:**\n",
    "Đề tài được lựa chọn nhằm khám phá các xu hướng âm nhạc nổi bật trong năm 2024 — bao gồm thể loại được yêu thích, nghệ sĩ nổi trội, mối quan hệ giữa thời điểm phát hành và độ phổ biến của bài hát, cũng như vai trò của các nền tảng mạng xã hội trong việc thúc đẩy lượng người nghe. Thông qua phân tích này, nhóm hướng đến việc cung cấp một bức tranh toàn cảnh về sự vận hành của ngành âm nhạc số trong kỷ nguyên streaming, góp phần đưa ra những góc nhìn và định hướng giá trị cho nghệ sĩ, nhà sản xuất và các nhà nghiên cứu âm nhạc.\n"
   ]
  },
  {
   "cell_type": "markdown",
   "id": "9206e47a",
   "metadata": {},
   "source": [
    "### Thư viện sử dụng trong đồ án"
   ]
  },
  {
   "cell_type": "code",
   "execution_count": null,
   "id": "library_import",
   "metadata": {},
   "outputs": [],
   "source": [
    "# Import các thư viện cần thiết"
   ]
  },
  {
   "cell_type": "markdown",
   "id": "cd350022",
   "metadata": {},
   "source": [
    "---"
   ]
  },
  {
   "cell_type": "markdown",
   "id": "035bb5f9",
   "metadata": {},
   "source": [
    "### A. Thu thập dữ liệu"
   ]
  },
  {
   "cell_type": "markdown",
   "id": "a1_subject",
   "metadata": {},
   "source": [
    "**1. Dữ liệu:** Dữ liệu được sử dụng trong đồ án được lấy từ bộ dữ liệu [*Most Streamed Spotify Songs 2024*](https://www.kaggle.com/datasets/nelgiriyewithana/most-streamed-spotify-songs-2024) do [Nidula Elgiriyewithana](https://www.kaggle.com/nelgiriyewithana) cung cấp trên Kaggle, theo giấy phép [CC BY-SA 4.0](https://creativecommons.org/licenses/by-sa/4.0/).\n",
    "\n",
    "**2. Chủ đề:** Bộ dữ liệu chứa thông tin về các bài hát được nghe nhiều nhất trên Spotify trong năm 2024, bao gồm các thuộc tính như tên bài hát, nghệ sĩ trình bày, ngày phát hành, mã ISRC, số liệu lượt nghe, cũng như sự xuất hiện và phổ biến trên các nền tảng như YouTube, TikTok, v.v.\n",
    "\n",
    "**3. Phương pháp thu thập dữ liệu:**"
   ]
  },
  {
   "cell_type": "markdown",
   "id": "14db7ad2",
   "metadata": {},
   "source": [
    "---"
   ]
  },
  {
   "cell_type": "markdown",
   "id": "47de5d3e",
   "metadata": {},
   "source": [
    "### B. Khám phá dữ liệu"
   ]
  },
  {
   "cell_type": "code",
   "execution_count": null,
   "id": "load_data",
   "metadata": {},
   "outputs": [],
   "source": [
    "# Đọc dữ liệu\n",
    "df = pd.read_csv('...')"
   ]
  },
  {
   "cell_type": "markdown",
   "id": "9509d495",
   "metadata": {},
   "source": [
    "#### 1. Dữ liệu có bao nhiêu hàng và cột?"
   ]
  },
  {
   "cell_type": "code",
   "execution_count": null,
   "id": "b1_shape",
   "metadata": {},
   "outputs": [],
   "source": [
    "# Code để kiểm tra số hàng và cột"
   ]
  },
  {
   "cell_type": "markdown",
   "id": "b408a4b0",
   "metadata": {},
   "source": [
    "#### 2. Ý nghĩa của mỗi hàng là gì?"
   ]
  },
  {
   "cell_type": "markdown",
   "id": "b2_row_meaning",
   "metadata": {},
   "source": [
    "Mỗi hàng đại diện cho ..."
   ]
  },
  {
   "cell_type": "markdown",
   "id": "35334375",
   "metadata": {},
   "source": [
    "#### 3. Có dòng nào bị trùng lặp không?"
   ]
  },
  {
   "cell_type": "code",
   "execution_count": null,
   "id": "b3_duplicates",
   "metadata": {},
   "outputs": [],
   "source": [
    "# Code để kiểm tra dòng trùng lặp"
   ]
  },
  {
   "cell_type": "markdown",
   "id": "0cc84b46",
   "metadata": {},
   "source": [
    "#### 4. Ý nghĩa của từng cột?"
   ]
  },
  {
   "cell_type": "code",
   "execution_count": null,
   "id": "b4_columns_info",
   "metadata": {},
   "outputs": [],
   "source": [
    "# Hiển thị thông tin các cột"
   ]
  },
  {
   "cell_type": "markdown",
   "id": "b4_columns_meaning",
   "metadata": {},
   "source": [
    "**Giải thích ý nghĩa các cột:**\n",
    "- Cột 1: ...\n",
    "- Cột 2: ...\n",
    "- ..."
   ]
  },
  {
   "cell_type": "markdown",
   "id": "f4e72d3c",
   "metadata": {},
   "source": [
    "#### 5. Loại dữ liệu trong mỗi cột là gì? Có cột nào chứa loại dữ liệu không hợp lý hay không?"
   ]
  },
  {
   "cell_type": "code",
   "execution_count": null,
   "id": "b5_dtypes",
   "metadata": {},
   "outputs": [],
   "source": [
    "# Code để kiểm tra kiểu dữ liệu"
   ]
  },
  {
   "cell_type": "markdown",
   "id": "b5_dtypes_analysis",
   "metadata": {},
   "source": [
    "**Nhận xét:** ..."
   ]
  },
  {
   "cell_type": "markdown",
   "id": "30809f1a",
   "metadata": {},
   "source": [
    "#### 6. Với mỗi cột dữ liệu số thì các giá trị được phân phối như thế nào?"
   ]
  },
  {
   "cell_type": "markdown",
   "id": "b6_numerical_intro",
   "metadata": {},
   "source": [
    "##### 6.1. Tỉ lệ dữ liệu rỗng"
   ]
  },
  {
   "cell_type": "code",
   "execution_count": null,
   "id": "b6_missing_numerical",
   "metadata": {},
   "outputs": [],
   "source": [
    "# Code để kiểm tra giá trị rỗng trong các cột số"
   ]
  },
  {
   "cell_type": "markdown",
   "id": "b6_distribution",
   "metadata": {},
   "source": [
    "##### 6.2. Phân phối giá trị"
   ]
  },
  {
   "cell_type": "code",
   "execution_count": null,
   "id": "b6_describe",
   "metadata": {},
   "outputs": [],
   "source": [
    "# Code để xem thống kê mô tả các cột số"
   ]
  },
  {
   "cell_type": "markdown",
   "id": "b6_minmax",
   "metadata": {},
   "source": [
    "##### 6.3. Giá trị nhỏ nhất và lớn nhất"
   ]
  },
  {
   "cell_type": "code",
   "execution_count": null,
   "id": "b6_minmax_code",
   "metadata": {},
   "outputs": [],
   "source": [
    "# Code để kiểm tra min, max"
   ]
  },
  {
   "cell_type": "markdown",
   "id": "b6_minmax_analysis",
   "metadata": {},
   "source": [
    "**Nhận xét về tính bất thường:** ..."
   ]
  },
  {
   "cell_type": "markdown",
   "id": "b7_categorical",
   "metadata": {},
   "source": [
    "#### 7. Với mỗi cột dữ liệu phân loại thì các giá trị được phân phối như thế nào?"
   ]
  },
  {
   "cell_type": "markdown",
   "id": "b7_categorical_missing",
   "metadata": {},
   "source": [
    "##### 7.1. Tỉ lệ dữ liệu rỗng"
   ]
  },
  {
   "cell_type": "code",
   "execution_count": null,
   "id": "b7_missing_categorical",
   "metadata": {},
   "outputs": [],
   "source": [
    "# Code để kiểm tra giá trị rỗng trong các cột phân loại"
   ]
  },
  {
   "cell_type": "markdown",
   "id": "b7_unique",
   "metadata": {},
   "source": [
    "##### 7.2. Số lượng giá trị khác nhau"
   ]
  },
  {
   "cell_type": "code",
   "execution_count": null,
   "id": "b7_unique_code",
   "metadata": {},
   "outputs": [],
   "source": [
    "# Code để kiểm tra số giá trị khác nhau và hiển thị một vài giá trị"
   ]
  },
  {
   "cell_type": "markdown",
   "id": "b7_abnormal",
   "metadata": {},
   "source": [
    "##### 7.3. Các giá trị có bất thường không?"
   ]
  },
  {
   "cell_type": "markdown",
   "id": "b7_abnormal_analysis",
   "metadata": {},
   "source": [
    "**Nhận xét:** ..."
   ]
  },
  {
   "cell_type": "markdown",
   "id": "dfb4b62f",
   "metadata": {},
   "source": [
    "---"
   ]
  },
  {
   "cell_type": "markdown",
   "id": "c_questions",
   "metadata": {},
   "source": [
    "### C. Đặt câu hỏi có ý nghĩa"
   ]
  },
  {
   "cell_type": "markdown",
   "id": "c_intro",
   "metadata": {},
   "source": [
    "Nhóm đặt ra các câu hỏi sau để phân tích dữ liệu:"
   ]
  },
  {
   "cell_type": "markdown",
   "id": "c_q1",
   "metadata": {},
   "source": [
    "#### Câu hỏi 1: ..."
   ]
  },
  {
   "cell_type": "markdown",
   "id": "c_q1_benefit",
   "metadata": {},
   "source": [
    "**Lợi ích của việc trả lời câu hỏi này:** ..."
   ]
  },
  {
   "cell_type": "markdown",
   "id": "c_q2",
   "metadata": {},
   "source": [
    "#### Câu hỏi 2: ..."
   ]
  },
  {
   "cell_type": "markdown",
   "id": "c_q2_benefit",
   "metadata": {},
   "source": [
    "**Lợi ích của việc trả lời câu hỏi này:** ..."
   ]
  },
  {
   "cell_type": "markdown",
   "id": "c_q3",
   "metadata": {},
   "source": [
    "#### Câu hỏi 3: ..."
   ]
  },
  {
   "cell_type": "markdown",
   "id": "c_q3_benefit",
   "metadata": {},
   "source": [
    "**Lợi ích của việc trả lời câu hỏi này:** ..."
   ]
  },
  {
   "cell_type": "markdown",
   "id": "2ca3fb12",
   "metadata": {},
   "source": [
    "---"
   ]
  },
  {
   "cell_type": "markdown",
   "id": "d_analysis",
   "metadata": {},
   "source": [
    "### D. Tiền xử lý và phân tích dữ liệu để trả lời từng câu hỏi"
   ]
  },
  {
   "cell_type": "markdown",
   "id": "d_q1",
   "metadata": {},
   "source": [
    "#### Câu hỏi 1: ..."
   ]
  },
  {
   "cell_type": "markdown",
   "id": "d_q1_preprocessing",
   "metadata": {},
   "source": [
    "##### Tiền xử lý dữ liệu\n",
    "**Các bước tiền xử lý:**\n",
    "1. ...\n",
    "2. ...\n",
    "3. ..."
   ]
  },
  {
   "cell_type": "code",
   "execution_count": null,
   "id": "d_q1_preprocessing_code",
   "metadata": {},
   "outputs": [],
   "source": [
    "# Code tiền xử lý cho câu hỏi 1"
   ]
  },
  {
   "cell_type": "markdown",
   "id": "d_q1_analysis",
   "metadata": {},
   "source": [
    "##### Phân tích dữ liệu\n",
    "**Các bước phân tích:**\n",
    "1. ...\n",
    "2. ...\n",
    "3. ..."
   ]
  },
  {
   "cell_type": "code",
   "execution_count": null,
   "id": "d_q1_analysis_code",
   "metadata": {},
   "outputs": [],
   "source": [
    "# Code phân tích cho câu hỏi 1"
   ]
  },
  {
   "cell_type": "markdown",
   "id": "d_q1_result",
   "metadata": {},
   "source": [
    "##### Kết quả và nhận xét\n",
    "..."
   ]
  },
  {
   "cell_type": "markdown",
   "id": "d_q2",
   "metadata": {},
   "source": [
    "#### Câu hỏi 2: ..."
   ]
  },
  {
   "cell_type": "markdown",
   "id": "d_q2_preprocessing",
   "metadata": {},
   "source": [
    "##### Tiền xử lý dữ liệu\n",
    "**Các bước tiền xử lý:**\n",
    "1. ...\n",
    "2. ...\n",
    "3. ..."
   ]
  },
  {
   "cell_type": "code",
   "execution_count": null,
   "id": "d_q2_preprocessing_code",
   "metadata": {},
   "outputs": [],
   "source": [
    "# Code tiền xử lý cho câu hỏi 2"
   ]
  },
  {
   "cell_type": "markdown",
   "id": "d_q2_analysis",
   "metadata": {},
   "source": [
    "##### Phân tích dữ liệu\n",
    "**Các bước phân tích:**\n",
    "1. ...\n",
    "2. ...\n",
    "3. ..."
   ]
  },
  {
   "cell_type": "code",
   "execution_count": null,
   "id": "d_q2_analysis_code",
   "metadata": {},
   "outputs": [],
   "source": [
    "# Code phân tích cho câu hỏi 2"
   ]
  },
  {
   "cell_type": "markdown",
   "id": "d_q2_result",
   "metadata": {},
   "source": [
    "##### Kết quả và nhận xét\n",
    "..."
   ]
  },
  {
   "cell_type": "markdown",
   "id": "d_q3",
   "metadata": {},
   "source": [
    "#### Câu hỏi 3: ..."
   ]
  },
  {
   "cell_type": "markdown",
   "id": "d_q3_preprocessing",
   "metadata": {},
   "source": [
    "##### Tiền xử lý dữ liệu\n",
    "**Các bước tiền xử lý:**\n",
    "1. ...\n",
    "2. ...\n",
    "3. ..."
   ]
  },
  {
   "cell_type": "code",
   "execution_count": null,
   "id": "d_q3_preprocessing_code",
   "metadata": {},
   "outputs": [],
   "source": [
    "# Code tiền xử lý cho câu hỏi 3"
   ]
  },
  {
   "cell_type": "markdown",
   "id": "d_q3_analysis",
   "metadata": {},
   "source": [
    "##### Phân tích dữ liệu\n",
    "**Các bước phân tích:**\n",
    "1. ...\n",
    "2. ...\n",
    "3. ..."
   ]
  },
  {
   "cell_type": "code",
   "execution_count": null,
   "id": "d_q3_analysis_code",
   "metadata": {},
   "outputs": [],
   "source": [
    "# Code phân tích cho câu hỏi 3"
   ]
  },
  {
   "cell_type": "markdown",
   "id": "d_q3_result",
   "metadata": {},
   "source": [
    "##### Kết quả và nhận xét\n",
    "..."
   ]
  },
  {
   "cell_type": "markdown",
   "id": "b0b74b9c",
   "metadata": {},
   "source": [
    "---"
   ]
  },
  {
   "cell_type": "markdown",
   "id": "e_reflection",
   "metadata": {},
   "source": [
    "### E. Phản hồi"
   ]
  },
  {
   "cell_type": "markdown",
   "id": "e_member1",
   "metadata": {},
   "source": [
    "#### Thành viên: Đoàn Hải Nam (23122011)"
   ]
  },
  {
   "cell_type": "markdown",
   "id": "e_member1_difficulties",
   "metadata": {},
   "source": [
    "**Khó khăn gặp phải:** ..."
   ]
  },
  {
   "cell_type": "markdown",
   "id": "e_member1_learned",
   "metadata": {},
   "source": [
    "**Điều đã học được:** ..."
   ]
  },
  {
   "cell_type": "markdown",
   "id": "e_member2",
   "metadata": {},
   "source": [
    "#### Thành viên: Hoàng Minh Trung (23122014)"
   ]
  },
  {
   "cell_type": "markdown",
   "id": "e_member2_difficulties",
   "metadata": {},
   "source": [
    "**Khó khăn gặp phải:** ..."
   ]
  },
  {
   "cell_type": "markdown",
   "id": "e_member2_learned",
   "metadata": {},
   "source": [
    "**Điều đã học được:** ..."
   ]
  },
  {
   "cell_type": "markdown",
   "id": "e_member3",
   "metadata": {},
   "source": [
    "#### Thành viên: Nguyễn Ngọc Khoa (23122036)"
   ]
  },
  {
   "cell_type": "markdown",
   "id": "e_member3_difficulties",
   "metadata": {},
   "source": [
    "**Khó khăn gặp phải:** ..."
   ]
  },
  {
   "cell_type": "markdown",
   "id": "e_member3_learned",
   "metadata": {},
   "source": [
    "**Điều đã học được:** ..."
   ]
  },
  {
   "cell_type": "markdown",
   "id": "e_group",
   "metadata": {},
   "source": [
    "#### Cả nhóm"
   ]
  },
  {
   "cell_type": "markdown",
   "id": "e_group_future",
   "metadata": {},
   "source": [
    "**Nếu có thêm thời gian, nhóm sẽ:** ..."
   ]
  },
  {
   "cell_type": "markdown",
   "id": "69d6b4f2",
   "metadata": {},
   "source": [
    "---"
   ]
  },
  {
   "cell_type": "markdown",
   "id": "f_references",
   "metadata": {},
   "source": [
    "### F. Tài liệu tham khảo"
   ]
  },
  {
   "cell_type": "markdown",
   "id": "f_references_list",
   "metadata": {},
   "source": [
    "1. ...\n",
    "2. ...\n",
    "3. ..."
   ]
  }
 ],
 "metadata": {
  "kernelspec": {
   "display_name": "min_ds-env",
   "language": "python",
   "name": "python3"
  },
  "language_info": {
   "codemirror_mode": {
    "name": "ipython",
    "version": 3
   },
   "file_extension": ".py",
   "mimetype": "text/x-python",
   "name": "python",
   "nbconvert_exporter": "python",
   "pygments_lexer": "ipython3",
   "version": "3.11.5"
  }
 },
 "nbformat": 4,
 "nbformat_minor": 5
}
