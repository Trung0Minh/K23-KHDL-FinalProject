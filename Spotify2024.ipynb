{
 "cells": [
  {
   "cell_type": "markdown",
   "id": "6d53898a",
   "metadata": {},
   "source": [
    "# **ĐỒ ÁN CUỐI KÌ: LẬP TRÌNH CHO KHOA HỌC DỮ LIỆU**\n",
    "---"
   ]
  },
  {
   "cell_type": "markdown",
   "id": "4429159e",
   "metadata": {},
   "source": [
    "## **GVHD:** *Phạm Trọng Nghĩa - Lê Nhựt Nam - Nguyễn Thanh Tình*"
   ]
  },
  {
   "cell_type": "markdown",
   "id": "043ab200",
   "metadata": {},
   "source": [
    "## **NHÓM: NTK** \n",
    "23122011 - Đoàn Hải Nam\n",
    "\n",
    "23122014 - Hoàng Minh Trung\n",
    "\n",
    "23122036 - Nguyễn Ngọc Khoa\n",
    "\n",
    "---"
   ]
  },
  {
   "cell_type": "markdown",
   "id": "345f6bb5",
   "metadata": {},
   "source": [
    "## **ĐỀ TÀI:** PHÂN TÍCH CÁC BẢN NHẠC ĐƯỢC NGHE NHIỀU NHẤT TRÊN SPOTIFY NĂM 2024\n",
    "\n",
    "---"
   ]
  },
  {
   "cell_type": "markdown",
   "id": "48e9b02d",
   "metadata": {},
   "source": [
    "### **Tổng quan về đề tài**\n",
    "\n",
    "Bộ dữ liệu này tổng hợp đầy đủ các bài hát được nghe nhiều nhất trên Spotify trong năm 2024, mang đến cái nhìn sâu sắc về đặc điểm, mức độ phổ biến và sự hiện diện của từng ca khúc trên nhiều nền tảng âm nhạc trực tuyến. Đây là nguồn thông tin hữu ích cho các nhà phân tích, người yêu nhạc và giới chuyên môn trong ngành công nghiệp âm nhạc. Dữ liệu bao gồm các thông tin chi tiết như tên bài hát, nghệ sĩ, ngày phát hành, mã ISRC, số lượt nghe, cùng sự xuất hiện trên các nền tảng như YouTube, TikTok và các kênh truyền thông khác.\n",
    "\n",
    "**Lý do chọn đề tài:**\n",
    "Đề tài được lựa chọn nhằm khám phá các xu hướng âm nhạc nổi bật trong năm 2024 — bao gồm thể loại được yêu thích, nghệ sĩ nổi trội, mối quan hệ giữa thời điểm phát hành và độ phổ biến của bài hát, cũng như vai trò của các nền tảng mạng xã hội trong việc thúc đẩy lượng người nghe. Thông qua phân tích này, nhóm hướng đến việc cung cấp một bức tranh toàn cảnh về sự vận hành của ngành âm nhạc số trong kỷ nguyên streaming, góp phần đưa ra những góc nhìn và định hướng giá trị cho nghệ sĩ, nhà sản xuất và các nhà nghiên cứu âm nhạc.\n"
   ]
  },
  {
   "cell_type": "markdown",
   "id": "9206e47a",
   "metadata": {},
   "source": [
    "### Thư viện sử dụng trong đồ án"
   ]
  },
  {
   "cell_type": "code",
   "execution_count": 4,
   "id": "e0019cf8",
   "metadata": {},
   "outputs": [],
   "source": [
    "import pandas as pd\n",
    "import numpy as np\n",
    "from IPython.display import display\n",
    "import matplotlib.pyplot as plt"
   ]
  },
  {
   "cell_type": "markdown",
   "id": "cd350022",
   "metadata": {},
   "source": [
    "---"
   ]
  },
  {
   "cell_type": "markdown",
   "id": "035bb5f9",
   "metadata": {},
   "source": [
    "### A. Thu thập dữ liệu"
   ]
  },
  {
   "cell_type": "markdown",
   "id": "a1_subject",
   "metadata": {},
   "source": [
    "**1. Dữ liệu:** Dữ liệu được sử dụng trong đồ án được lấy từ bộ dữ liệu [*Most Streamed Spotify Songs 2024*](https://www.kaggle.com/datasets/nelgiriyewithana/most-streamed-spotify-songs-2024) do [Nidula Elgiriyewithana](https://www.kaggle.com/nelgiriyewithana) cung cấp trên Kaggle, theo giấy phép [CC BY-SA 4.0](https://creativecommons.org/licenses/by-sa/4.0/).\n",
    "\n",
    "**2. Chủ đề:** Bộ dữ liệu chứa thông tin về các bài hát được nghe nhiều nhất trên Spotify trong năm 2024, bao gồm các thuộc tính như tên bài hát, nghệ sĩ trình bày, ngày phát hành, mã ISRC, số liệu lượt nghe, cũng như sự xuất hiện và phổ biến trên các nền tảng như YouTube, TikTok, v.v.\n",
    "\n",
    "**3. Phương pháp thu thập dữ liệu:**"
   ]
  },
  {
   "cell_type": "markdown",
   "id": "14db7ad2",
   "metadata": {},
   "source": [
    "---"
   ]
  },
  {
   "cell_type": "markdown",
   "id": "47de5d3e",
   "metadata": {},
   "source": [
    "### B. Khám phá dữ liệu"
   ]
  },
  {
   "cell_type": "code",
   "execution_count": null,
   "id": "372012a5",
   "metadata": {},
   "outputs": [
    {
     "name": "stderr",
     "output_type": "stream",
     "text": [
      "'kaggle' is not recognized as an internal or external command,\n",
      "operable program or batch file.\n"
     ]
    }
   ],
   "source": [
    "# tải dữ liệu từ Kaggle vào thư mục /data\n",
    "# !kaggle datasets download -d nelgiriyewithana/most-streamed-spotify-songs-2024 -p data"
   ]
  },
  {
   "cell_type": "code",
   "execution_count": 6,
   "id": "load_data",
   "metadata": {},
   "outputs": [],
   "source": [
    "# Đọc dữ liệu\n",
    "df = pd.read_csv('data/Most Streamed Spotify Songs 2024.csv', encoding='latin-1')"
   ]
  },
  {
   "cell_type": "markdown",
   "id": "9509d495",
   "metadata": {},
   "source": [
    "#### 1. Dữ liệu có bao nhiêu hàng và cột?"
   ]
  },
  {
   "cell_type": "code",
   "execution_count": 7,
   "id": "b1_shape",
   "metadata": {},
   "outputs": [
    {
     "name": "stdout",
     "output_type": "stream",
     "text": [
      "Số hàng: 4600\n",
      "Số cột : 29\n"
     ]
    }
   ],
   "source": [
    "# Code để kiểm tra số hàng và cột\n",
    "print(f\"Số hàng: {df.shape[0]}\")\n",
    "print(f\"Số cột : {df.shape[1]}\")"
   ]
  },
  {
   "cell_type": "markdown",
   "id": "b408a4b0",
   "metadata": {},
   "source": [
    "#### 2. Ý nghĩa của mỗi hàng là gì?"
   ]
  },
  {
   "cell_type": "markdown",
   "id": "b2_row_meaning",
   "metadata": {},
   "source": [
    "Mỗi hàng tương ứng với một **bài hát (track/ISRC)** trên *Spotify* năm *2024* cùng các thông tin cơ bản và thông số về độ phổ biến đa nền tảng tại thời điểm thu thập, cụ thể:\n",
    "\n",
    "- Định danh & mô tả: `track_name`, `album_name`, `artist`, `isrc`, `explicit_track`\n",
    "- Ngày phát hành: `release_date`\n",
    "- Xếp hạng/điểm: `all_time_rank`, `track_score`, `spotify_popularity`\n",
    "- Spotify: `spotify_streams`, `spotify_playlist_count`, `spotify_playlist_reach`\n",
    "- YouTube: `youtube_views`, `youtube_likes`, `youtube_playlist_reach`\n",
    "- TikTok: `tiktok_posts`, `tiktok_likes`, `tiktok_views`\n",
    "- Apple/Deezer/Amazon: `apple_music_playlist_count`, `deezer_playlist_count`, `deezer_playlist_reach`, `amazon_playlist_count`\n",
    "- Radio & các nền tảng khác: `airplay_spins`, `siriusxm_spins`, `pandora_streams`, `pandora_track_stations`, `soundcloud_streams`, `shazam_counts`, `tidal_popularity`"
   ]
  },
  {
   "cell_type": "code",
   "execution_count": 8,
   "id": "964e4e57",
   "metadata": {},
   "outputs": [
    {
     "data": {
      "text/html": [
       "<div>\n",
       "<style scoped>\n",
       "    .dataframe tbody tr th:only-of-type {\n",
       "        vertical-align: middle;\n",
       "    }\n",
       "\n",
       "    .dataframe tbody tr th {\n",
       "        vertical-align: top;\n",
       "    }\n",
       "\n",
       "    .dataframe thead th {\n",
       "        text-align: right;\n",
       "    }\n",
       "</style>\n",
       "<table border=\"1\" class=\"dataframe\">\n",
       "  <thead>\n",
       "    <tr style=\"text-align: right;\">\n",
       "      <th></th>\n",
       "      <th>0</th>\n",
       "    </tr>\n",
       "  </thead>\n",
       "  <tbody>\n",
       "    <tr>\n",
       "      <th>Track</th>\n",
       "      <td>MILLION DOLLAR BABY</td>\n",
       "    </tr>\n",
       "    <tr>\n",
       "      <th>Album Name</th>\n",
       "      <td>Million Dollar Baby - Single</td>\n",
       "    </tr>\n",
       "    <tr>\n",
       "      <th>Artist</th>\n",
       "      <td>Tommy Richman</td>\n",
       "    </tr>\n",
       "    <tr>\n",
       "      <th>Release Date</th>\n",
       "      <td>4/26/2024</td>\n",
       "    </tr>\n",
       "    <tr>\n",
       "      <th>ISRC</th>\n",
       "      <td>QM24S2402528</td>\n",
       "    </tr>\n",
       "    <tr>\n",
       "      <th>All Time Rank</th>\n",
       "      <td>1</td>\n",
       "    </tr>\n",
       "    <tr>\n",
       "      <th>Track Score</th>\n",
       "      <td>725.4</td>\n",
       "    </tr>\n",
       "    <tr>\n",
       "      <th>Spotify Streams</th>\n",
       "      <td>390,470,936</td>\n",
       "    </tr>\n",
       "    <tr>\n",
       "      <th>Spotify Playlist Count</th>\n",
       "      <td>30,716</td>\n",
       "    </tr>\n",
       "    <tr>\n",
       "      <th>Spotify Playlist Reach</th>\n",
       "      <td>196,631,588</td>\n",
       "    </tr>\n",
       "    <tr>\n",
       "      <th>Spotify Popularity</th>\n",
       "      <td>92.0</td>\n",
       "    </tr>\n",
       "    <tr>\n",
       "      <th>YouTube Views</th>\n",
       "      <td>84,274,754</td>\n",
       "    </tr>\n",
       "    <tr>\n",
       "      <th>YouTube Likes</th>\n",
       "      <td>1,713,126</td>\n",
       "    </tr>\n",
       "    <tr>\n",
       "      <th>TikTok Posts</th>\n",
       "      <td>5,767,700</td>\n",
       "    </tr>\n",
       "    <tr>\n",
       "      <th>TikTok Likes</th>\n",
       "      <td>651,565,900</td>\n",
       "    </tr>\n",
       "    <tr>\n",
       "      <th>TikTok Views</th>\n",
       "      <td>5,332,281,936</td>\n",
       "    </tr>\n",
       "    <tr>\n",
       "      <th>YouTube Playlist Reach</th>\n",
       "      <td>150,597,040</td>\n",
       "    </tr>\n",
       "    <tr>\n",
       "      <th>Apple Music Playlist Count</th>\n",
       "      <td>210.0</td>\n",
       "    </tr>\n",
       "    <tr>\n",
       "      <th>AirPlay Spins</th>\n",
       "      <td>40,975</td>\n",
       "    </tr>\n",
       "    <tr>\n",
       "      <th>SiriusXM Spins</th>\n",
       "      <td>684</td>\n",
       "    </tr>\n",
       "    <tr>\n",
       "      <th>Deezer Playlist Count</th>\n",
       "      <td>62.0</td>\n",
       "    </tr>\n",
       "    <tr>\n",
       "      <th>Deezer Playlist Reach</th>\n",
       "      <td>17,598,718</td>\n",
       "    </tr>\n",
       "    <tr>\n",
       "      <th>Amazon Playlist Count</th>\n",
       "      <td>114.0</td>\n",
       "    </tr>\n",
       "    <tr>\n",
       "      <th>Pandora Streams</th>\n",
       "      <td>18,004,655</td>\n",
       "    </tr>\n",
       "    <tr>\n",
       "      <th>Pandora Track Stations</th>\n",
       "      <td>22,931</td>\n",
       "    </tr>\n",
       "    <tr>\n",
       "      <th>Soundcloud Streams</th>\n",
       "      <td>4,818,457</td>\n",
       "    </tr>\n",
       "    <tr>\n",
       "      <th>Shazam Counts</th>\n",
       "      <td>2,669,262</td>\n",
       "    </tr>\n",
       "    <tr>\n",
       "      <th>TIDAL Popularity</th>\n",
       "      <td>NaN</td>\n",
       "    </tr>\n",
       "    <tr>\n",
       "      <th>Explicit Track</th>\n",
       "      <td>0</td>\n",
       "    </tr>\n",
       "  </tbody>\n",
       "</table>\n",
       "</div>"
      ],
      "text/plain": [
       "                                                       0\n",
       "Track                                MILLION DOLLAR BABY\n",
       "Album Name                  Million Dollar Baby - Single\n",
       "Artist                                     Tommy Richman\n",
       "Release Date                                   4/26/2024\n",
       "ISRC                                        QM24S2402528\n",
       "All Time Rank                                          1\n",
       "Track Score                                        725.4\n",
       "Spotify Streams                              390,470,936\n",
       "Spotify Playlist Count                            30,716\n",
       "Spotify Playlist Reach                       196,631,588\n",
       "Spotify Popularity                                  92.0\n",
       "YouTube Views                                 84,274,754\n",
       "YouTube Likes                                  1,713,126\n",
       "TikTok Posts                                   5,767,700\n",
       "TikTok Likes                                 651,565,900\n",
       "TikTok Views                               5,332,281,936\n",
       "YouTube Playlist Reach                       150,597,040\n",
       "Apple Music Playlist Count                         210.0\n",
       "AirPlay Spins                                     40,975\n",
       "SiriusXM Spins                                       684\n",
       "Deezer Playlist Count                               62.0\n",
       "Deezer Playlist Reach                         17,598,718\n",
       "Amazon Playlist Count                              114.0\n",
       "Pandora Streams                               18,004,655\n",
       "Pandora Track Stations                            22,931\n",
       "Soundcloud Streams                             4,818,457\n",
       "Shazam Counts                                  2,669,262\n",
       "TIDAL Popularity                                     NaN\n",
       "Explicit Track                                         0"
      ]
     },
     "metadata": {},
     "output_type": "display_data"
    }
   ],
   "source": [
    "# print minh hoạ 1 hàng\n",
    "non_na = df.dropna(how=\"any\")  # lọc các hàng không có NaN ở bất kỳ cột nào\n",
    "row = non_na.iloc[[0]] if len(non_na) else df.loc[[df.isna().sum(axis=1).idxmin()]]  # nếu không có, lấy hàng thiếu ít nhất\n",
    "display(row.T)  # xoay dọc để dễ nhìn hơn"
   ]
  },
  {
   "cell_type": "markdown",
   "id": "35334375",
   "metadata": {},
   "source": [
    "#### 3. Có dòng nào bị trùng lặp không?"
   ]
  },
  {
   "cell_type": "code",
   "execution_count": 9,
   "id": "b3_duplicates",
   "metadata": {},
   "outputs": [
    {
     "name": "stdout",
     "output_type": "stream",
     "text": [
      "Số dòng trùng lặp: 2\n",
      "Dòng trùng lặp:\n"
     ]
    },
    {
     "data": {
      "text/html": [
       "<div>\n",
       "<style scoped>\n",
       "    .dataframe tbody tr th:only-of-type {\n",
       "        vertical-align: middle;\n",
       "    }\n",
       "\n",
       "    .dataframe tbody tr th {\n",
       "        vertical-align: top;\n",
       "    }\n",
       "\n",
       "    .dataframe thead th {\n",
       "        text-align: right;\n",
       "    }\n",
       "</style>\n",
       "<table border=\"1\" class=\"dataframe\">\n",
       "  <thead>\n",
       "    <tr style=\"text-align: right;\">\n",
       "      <th></th>\n",
       "      <th>Track</th>\n",
       "      <th>Album Name</th>\n",
       "      <th>Artist</th>\n",
       "      <th>Release Date</th>\n",
       "      <th>ISRC</th>\n",
       "      <th>All Time Rank</th>\n",
       "      <th>Track Score</th>\n",
       "      <th>Spotify Streams</th>\n",
       "      <th>Spotify Playlist Count</th>\n",
       "      <th>Spotify Playlist Reach</th>\n",
       "      <th>...</th>\n",
       "      <th>SiriusXM Spins</th>\n",
       "      <th>Deezer Playlist Count</th>\n",
       "      <th>Deezer Playlist Reach</th>\n",
       "      <th>Amazon Playlist Count</th>\n",
       "      <th>Pandora Streams</th>\n",
       "      <th>Pandora Track Stations</th>\n",
       "      <th>Soundcloud Streams</th>\n",
       "      <th>Shazam Counts</th>\n",
       "      <th>TIDAL Popularity</th>\n",
       "      <th>Explicit Track</th>\n",
       "    </tr>\n",
       "  </thead>\n",
       "  <tbody>\n",
       "    <tr>\n",
       "      <th>2450</th>\n",
       "      <td>Tennessee Orange</td>\n",
       "      <td>Tennessee Orange</td>\n",
       "      <td>Megan Moroney</td>\n",
       "      <td>9/2/2022</td>\n",
       "      <td>TCAGJ2289254</td>\n",
       "      <td>2,424</td>\n",
       "      <td>28.9</td>\n",
       "      <td>227,893,586</td>\n",
       "      <td>28,139</td>\n",
       "      <td>12,480,714</td>\n",
       "      <td>...</td>\n",
       "      <td>34</td>\n",
       "      <td>5.0</td>\n",
       "      <td>1,370</td>\n",
       "      <td>49.0</td>\n",
       "      <td>56,972,562</td>\n",
       "      <td>26,968</td>\n",
       "      <td>1,336,043</td>\n",
       "      <td>708,143</td>\n",
       "      <td>NaN</td>\n",
       "      <td>0</td>\n",
       "    </tr>\n",
       "    <tr>\n",
       "      <th>3450</th>\n",
       "      <td>Dembow</td>\n",
       "      <td>Dembow</td>\n",
       "      <td>Danny Ocean</td>\n",
       "      <td>12/8/2017</td>\n",
       "      <td>USWL11700269</td>\n",
       "      <td>3,441</td>\n",
       "      <td>23.3</td>\n",
       "      <td>579,189,526</td>\n",
       "      <td>60,397</td>\n",
       "      <td>11,805,084</td>\n",
       "      <td>...</td>\n",
       "      <td>9</td>\n",
       "      <td>20.0</td>\n",
       "      <td>37,649</td>\n",
       "      <td>12.0</td>\n",
       "      <td>6,723,858</td>\n",
       "      <td>7,832</td>\n",
       "      <td>NaN</td>\n",
       "      <td>1,619,550</td>\n",
       "      <td>NaN</td>\n",
       "      <td>0</td>\n",
       "    </tr>\n",
       "  </tbody>\n",
       "</table>\n",
       "<p>2 rows × 29 columns</p>\n",
       "</div>"
      ],
      "text/plain": [
       "                 Track        Album Name         Artist Release Date  \\\n",
       "2450  Tennessee Orange  Tennessee Orange  Megan Moroney     9/2/2022   \n",
       "3450            Dembow            Dembow    Danny Ocean    12/8/2017   \n",
       "\n",
       "              ISRC All Time Rank  Track Score Spotify Streams  \\\n",
       "2450  TCAGJ2289254         2,424         28.9     227,893,586   \n",
       "3450  USWL11700269         3,441         23.3     579,189,526   \n",
       "\n",
       "     Spotify Playlist Count Spotify Playlist Reach  ...  SiriusXM Spins  \\\n",
       "2450                 28,139             12,480,714  ...              34   \n",
       "3450                 60,397             11,805,084  ...               9   \n",
       "\n",
       "     Deezer Playlist Count Deezer Playlist Reach Amazon Playlist Count  \\\n",
       "2450                   5.0                 1,370                  49.0   \n",
       "3450                  20.0                37,649                  12.0   \n",
       "\n",
       "     Pandora Streams Pandora Track Stations Soundcloud Streams  Shazam Counts  \\\n",
       "2450      56,972,562                 26,968          1,336,043        708,143   \n",
       "3450       6,723,858                  7,832                NaN      1,619,550   \n",
       "\n",
       "     TIDAL Popularity Explicit Track  \n",
       "2450              NaN              0  \n",
       "3450              NaN              0  \n",
       "\n",
       "[2 rows x 29 columns]"
      ]
     },
     "execution_count": 9,
     "metadata": {},
     "output_type": "execute_result"
    }
   ],
   "source": [
    "# Code để kiểm tra dòng trùng lặp\n",
    "dup_rows = df[df.duplicated()]\n",
    "\n",
    "print(f\"Số dòng trùng lặp: {dup_rows.shape[0]}\")\n",
    "\n",
    "print(\"Dòng trùng lặp:\")\n",
    "dup_rows.head()"
   ]
  },
  {
   "cell_type": "markdown",
   "id": "0cc84b46",
   "metadata": {},
   "source": [
    "#### 4. Ý nghĩa của từng cột?\n",
    "*Bảng dưới tóm tắt kiểu dữ liệu, số giá trị thiếu, số giá trị khác nhau và 1 ví dụ tiêu biểu cho mỗi cột*\n"
   ]
  },
  {
   "cell_type": "code",
   "execution_count": 10,
   "id": "b4_columns_info",
   "metadata": {},
   "outputs": [
    {
     "name": "stdout",
     "output_type": "stream",
     "text": [
      "Kiểu dữ liệu các cột đã chuẩn hoá:\n"
     ]
    },
    {
     "data": {
      "text/html": [
       "<div>\n",
       "<style scoped>\n",
       "    .dataframe tbody tr th:only-of-type {\n",
       "        vertical-align: middle;\n",
       "    }\n",
       "\n",
       "    .dataframe tbody tr th {\n",
       "        vertical-align: top;\n",
       "    }\n",
       "\n",
       "    .dataframe thead th {\n",
       "        text-align: right;\n",
       "    }\n",
       "</style>\n",
       "<table border=\"1\" class=\"dataframe\">\n",
       "  <thead>\n",
       "    <tr style=\"text-align: right;\">\n",
       "      <th></th>\n",
       "      <th>column</th>\n",
       "      <th>dtype</th>\n",
       "    </tr>\n",
       "  </thead>\n",
       "  <tbody>\n",
       "    <tr>\n",
       "      <th>0</th>\n",
       "      <td>Track</td>\n",
       "      <td>object</td>\n",
       "    </tr>\n",
       "    <tr>\n",
       "      <th>1</th>\n",
       "      <td>Album Name</td>\n",
       "      <td>object</td>\n",
       "    </tr>\n",
       "    <tr>\n",
       "      <th>2</th>\n",
       "      <td>Artist</td>\n",
       "      <td>object</td>\n",
       "    </tr>\n",
       "    <tr>\n",
       "      <th>3</th>\n",
       "      <td>Release Date</td>\n",
       "      <td>datetime64[ns]</td>\n",
       "    </tr>\n",
       "    <tr>\n",
       "      <th>4</th>\n",
       "      <td>ISRC</td>\n",
       "      <td>object</td>\n",
       "    </tr>\n",
       "    <tr>\n",
       "      <th>5</th>\n",
       "      <td>All Time Rank</td>\n",
       "      <td>Int64</td>\n",
       "    </tr>\n",
       "    <tr>\n",
       "      <th>6</th>\n",
       "      <td>Track Score</td>\n",
       "      <td>float64</td>\n",
       "    </tr>\n",
       "    <tr>\n",
       "      <th>7</th>\n",
       "      <td>Spotify Streams</td>\n",
       "      <td>Int64</td>\n",
       "    </tr>\n",
       "    <tr>\n",
       "      <th>8</th>\n",
       "      <td>Spotify Playlist Count</td>\n",
       "      <td>Int64</td>\n",
       "    </tr>\n",
       "    <tr>\n",
       "      <th>9</th>\n",
       "      <td>Spotify Playlist Reach</td>\n",
       "      <td>Int64</td>\n",
       "    </tr>\n",
       "    <tr>\n",
       "      <th>10</th>\n",
       "      <td>Spotify Popularity</td>\n",
       "      <td>float64</td>\n",
       "    </tr>\n",
       "    <tr>\n",
       "      <th>11</th>\n",
       "      <td>YouTube Views</td>\n",
       "      <td>Int64</td>\n",
       "    </tr>\n",
       "    <tr>\n",
       "      <th>12</th>\n",
       "      <td>YouTube Likes</td>\n",
       "      <td>Int64</td>\n",
       "    </tr>\n",
       "    <tr>\n",
       "      <th>13</th>\n",
       "      <td>TikTok Posts</td>\n",
       "      <td>Int64</td>\n",
       "    </tr>\n",
       "    <tr>\n",
       "      <th>14</th>\n",
       "      <td>TikTok Likes</td>\n",
       "      <td>Int64</td>\n",
       "    </tr>\n",
       "    <tr>\n",
       "      <th>15</th>\n",
       "      <td>TikTok Views</td>\n",
       "      <td>Int64</td>\n",
       "    </tr>\n",
       "    <tr>\n",
       "      <th>16</th>\n",
       "      <td>YouTube Playlist Reach</td>\n",
       "      <td>Int64</td>\n",
       "    </tr>\n",
       "    <tr>\n",
       "      <th>17</th>\n",
       "      <td>Apple Music Playlist Count</td>\n",
       "      <td>Int64</td>\n",
       "    </tr>\n",
       "    <tr>\n",
       "      <th>18</th>\n",
       "      <td>AirPlay Spins</td>\n",
       "      <td>Int64</td>\n",
       "    </tr>\n",
       "    <tr>\n",
       "      <th>19</th>\n",
       "      <td>SiriusXM Spins</td>\n",
       "      <td>Int64</td>\n",
       "    </tr>\n",
       "    <tr>\n",
       "      <th>20</th>\n",
       "      <td>Deezer Playlist Count</td>\n",
       "      <td>Int64</td>\n",
       "    </tr>\n",
       "    <tr>\n",
       "      <th>21</th>\n",
       "      <td>Deezer Playlist Reach</td>\n",
       "      <td>Int64</td>\n",
       "    </tr>\n",
       "    <tr>\n",
       "      <th>22</th>\n",
       "      <td>Amazon Playlist Count</td>\n",
       "      <td>Int64</td>\n",
       "    </tr>\n",
       "    <tr>\n",
       "      <th>23</th>\n",
       "      <td>Pandora Streams</td>\n",
       "      <td>Int64</td>\n",
       "    </tr>\n",
       "    <tr>\n",
       "      <th>24</th>\n",
       "      <td>Pandora Track Stations</td>\n",
       "      <td>Int64</td>\n",
       "    </tr>\n",
       "    <tr>\n",
       "      <th>25</th>\n",
       "      <td>Soundcloud Streams</td>\n",
       "      <td>Int64</td>\n",
       "    </tr>\n",
       "    <tr>\n",
       "      <th>26</th>\n",
       "      <td>Shazam Counts</td>\n",
       "      <td>Int64</td>\n",
       "    </tr>\n",
       "    <tr>\n",
       "      <th>27</th>\n",
       "      <td>TIDAL Popularity</td>\n",
       "      <td>float64</td>\n",
       "    </tr>\n",
       "    <tr>\n",
       "      <th>28</th>\n",
       "      <td>Explicit Track</td>\n",
       "      <td>Int8</td>\n",
       "    </tr>\n",
       "  </tbody>\n",
       "</table>\n",
       "</div>"
      ],
      "text/plain": [
       "                        column           dtype\n",
       "0                        Track          object\n",
       "1                   Album Name          object\n",
       "2                       Artist          object\n",
       "3                 Release Date  datetime64[ns]\n",
       "4                         ISRC          object\n",
       "5                All Time Rank           Int64\n",
       "6                  Track Score         float64\n",
       "7              Spotify Streams           Int64\n",
       "8       Spotify Playlist Count           Int64\n",
       "9       Spotify Playlist Reach           Int64\n",
       "10          Spotify Popularity         float64\n",
       "11               YouTube Views           Int64\n",
       "12               YouTube Likes           Int64\n",
       "13                TikTok Posts           Int64\n",
       "14                TikTok Likes           Int64\n",
       "15                TikTok Views           Int64\n",
       "16      YouTube Playlist Reach           Int64\n",
       "17  Apple Music Playlist Count           Int64\n",
       "18               AirPlay Spins           Int64\n",
       "19              SiriusXM Spins           Int64\n",
       "20       Deezer Playlist Count           Int64\n",
       "21       Deezer Playlist Reach           Int64\n",
       "22       Amazon Playlist Count           Int64\n",
       "23             Pandora Streams           Int64\n",
       "24      Pandora Track Stations           Int64\n",
       "25          Soundcloud Streams           Int64\n",
       "26               Shazam Counts           Int64\n",
       "27            TIDAL Popularity         float64\n",
       "28              Explicit Track            Int8"
      ]
     },
     "metadata": {},
     "output_type": "display_data"
    }
   ],
   "source": [
    "# Hiển thị thông tin các cột \n",
    "# clean kiểu dữ liệu: bỏ dấu phẩy, ép số, parse ngày\n",
    "\n",
    "# 1) parse reslease date\n",
    "if \"Release Date\" in df.columns:\n",
    "    df[\"Release Date\"] = pd.to_datetime(df[\"Release Date\"], errors=\"coerce\")  # m/d/yyyy \n",
    "\n",
    "# 2) các cột số đang ở dạng chuỗi có dấu phẩy -> chuyển về số nguyên (int64)\n",
    "comma_int_cols = [\n",
    "    \"Spotify Streams\",\"Spotify Playlist Count\",\"Spotify Playlist Reach\",\n",
    "    \"YouTube Views\",\"YouTube Likes\",\"YouTube Playlist Reach\",\n",
    "    \"TikTok Posts\",\"TikTok Likes\",\"TikTok Views\",\n",
    "    \"AirPlay Spins\",\"SiriusXM Spins\",\n",
    "    \"Deezer Playlist Count\",\"Deezer Playlist Reach\",\n",
    "    \"Amazon Playlist Count\",\n",
    "    \"Pandora Streams\",\"Pandora Track Stations\",\n",
    "    \"Soundcloud Streams\",\"Shazam Counts\",\n",
    "]\n",
    "for c in comma_int_cols:\n",
    "    if c in df.columns:\n",
    "        s = df[c].astype(str).str.replace(\",\", \"\", regex=False)\n",
    "        df[c] = pd.to_numeric(s, errors=\"coerce\").astype(\"Int64\")\n",
    "\n",
    "# 3) Ép kiểu cho các cột số còn lại\n",
    "if \"All Time Rank\" in df.columns:\n",
    "    df[\"All Time Rank\"] = pd.to_numeric(df[\"All Time Rank\"], errors=\"coerce\").astype(\"Int64\")\n",
    "for c in [\"Apple Music Playlist Count\"]:\n",
    "    if c in df.columns:\n",
    "        df[c] = pd.to_numeric(df[c], errors=\"coerce\").astype(\"Int64\")\n",
    "\n",
    "for c in [\"Track Score\",\"Spotify Popularity\",\"TIDAL Popularity\"]:\n",
    "    if c in df.columns:\n",
    "        df[c] = pd.to_numeric(df[c], errors=\"coerce\")\n",
    "\n",
    "if \"Explicit Track\" in df.columns:\n",
    "    df[\"Explicit Track\"] = pd.to_numeric(df[\"Explicit Track\"], errors=\"coerce\").astype(\"Int8\")\n",
    "\n",
    "# 4) Kiểm tra nhanh các cột đã chuẩn hoá + các cột còn lại trong df.columns xếp đúng thứ tự như lúc ban đầu\n",
    "check_cols = comma_int_cols + [\n",
    "    c for c in df.columns if c not in comma_int_cols\n",
    "]\n",
    "# reorder check_cols\n",
    "check_cols = [c for c in df.columns if c in check_cols]\n",
    "\n",
    "print(\"Kiểu dữ liệu các cột đã chuẩn hoá:\")\n",
    "col_desc = pd.DataFrame({\n",
    "    \"column\": check_cols,\n",
    "    \"dtype\": [str(df[c].dtype) for c in check_cols]\n",
    "})\n",
    "display(col_desc)\n"
   ]
  },
  {
   "cell_type": "markdown",
   "id": "b4_columns_meaning",
   "metadata": {},
   "source": [
    "**Giải thích ý nghĩa các cột:**\n",
    "- Cột 1 : `Track` — Tên bài hát\n",
    "- Cột 2 : `Album Name` — Tên album chứa bài hát\n",
    "- Cột 3 : `Artist` — Nghệ sĩ/nhóm thể hiện\n",
    "- Cột 4 : `Release Date` — Ngày phát hành bản ghi (nên chuyển sang kiểu ngày)\n",
    "- Cột 5 : `ISRC` — Mã định danh quốc tế của bản ghi âm\n",
    "- Cột 6 : `All Time Rank` — Thứ hạng tích lũy theo mức phổ biến tổng thể\n",
    "- Cột 7 : `Track Score` — Điểm tổng hợp (composite score) của bài hát\n",
    "- Cột 8 : `Spotify Streams` — Tổng lượt nghe trên Spotify\n",
    "- Cột 9 : `Spotify Playlist Count` — Số playlist Spotify có chứa bài hát\n",
    "- Cột 10: `Spotify Playlist Reach` — Độ phủ ước tính qua các playlist Spotify\n",
    "- Cột 11: `Spotify Popularity` — Điểm phổ biến (0–100) từ Spotify\n",
    "- Cột 12: `YouTube Views` — Lượt xem YouTube (video chính thức/liên quan)\n",
    "- Cột 13: `YouTube Likes` — Lượt thích YouTube\n",
    "- Cột 14: `TikTok Posts` — Số bài đăng TikTok dùng bài hát\n",
    "- Cột 15: `TikTok Likes` — Lượt thích của các bài đăng TikTok đó\n",
    "- Cột 16: `TikTok Views` — Lượt xem của các bài đăng TikTok đó\n",
    "- Cột 17: `YouTube Playlist Reach` — Độ phủ qua playlist YouTube\n",
    "- Cột 18: `Apple Music Playlist Count` — Số playlist Apple Music có bài hát\n",
    "- Cột 19: `AirPlay Spins` — Số lượt phát trên hệ thống radio (airplay)\n",
    "- Cột 20: `SiriusXM Spins` — Lượt phát trên SiriusXM\n",
    "- Cột 21: `Deezer Playlist Count` — Số playlist Deezer có bài hát\n",
    "- Cột 22: `Deezer Playlist Reach` — Độ phủ qua playlist Deezer\n",
    "- Cột 23: `Amazon Playlist Count` — Số playlist Amazon Music có bài hát\n",
    "- Cột 24: `Pandora Streams` — Lượt nghe trên Pandora\n",
    "- Cột 25: `Pandora Track Stations` — Số station Pandora có bài hát\n",
    "- Cột 26: `Soundcloud Streams` — Lượt nghe trên SoundCloud\n",
    "- Cột 27: `Shazam Counts` — Số lần người dùng Shazam bài hát\n",
    "- Cột 28: `TIDAL Popularity` — Điểm phổ biến trên TIDAL (cột này hiện toàn thiếu)\n",
    "- Cột 29: `Explicit Track` — Cờ nội dung nhạy cảm (0: không, 1: có)\n"
   ]
  },
  {
   "cell_type": "markdown",
   "id": "f4e72d3c",
   "metadata": {},
   "source": [
    "#### 5. Loại dữ liệu trong mỗi cột là gì? Có cột nào chứa loại dữ liệu không hợp lý hay không?"
   ]
  },
  {
   "cell_type": "code",
   "execution_count": 11,
   "id": "b5_dtypes",
   "metadata": {},
   "outputs": [
    {
     "data": {
      "text/html": [
       "<div>\n",
       "<style scoped>\n",
       "    .dataframe tbody tr th:only-of-type {\n",
       "        vertical-align: middle;\n",
       "    }\n",
       "\n",
       "    .dataframe tbody tr th {\n",
       "        vertical-align: top;\n",
       "    }\n",
       "\n",
       "    .dataframe thead th {\n",
       "        text-align: right;\n",
       "    }\n",
       "</style>\n",
       "<table border=\"1\" class=\"dataframe\">\n",
       "  <thead>\n",
       "    <tr style=\"text-align: right;\">\n",
       "      <th></th>\n",
       "      <th>column</th>\n",
       "      <th>dtype</th>\n",
       "      <th>missing_count</th>\n",
       "      <th>unique_count</th>\n",
       "      <th>example_value</th>\n",
       "    </tr>\n",
       "  </thead>\n",
       "  <tbody>\n",
       "    <tr>\n",
       "      <th>0</th>\n",
       "      <td>Track</td>\n",
       "      <td>object</td>\n",
       "      <td>0</td>\n",
       "      <td>4370</td>\n",
       "      <td>MILLION DOLLAR BABY</td>\n",
       "    </tr>\n",
       "    <tr>\n",
       "      <th>1</th>\n",
       "      <td>Album Name</td>\n",
       "      <td>object</td>\n",
       "      <td>0</td>\n",
       "      <td>4005</td>\n",
       "      <td>Million Dollar Baby - Single</td>\n",
       "    </tr>\n",
       "    <tr>\n",
       "      <th>2</th>\n",
       "      <td>Artist</td>\n",
       "      <td>object</td>\n",
       "      <td>5</td>\n",
       "      <td>1999</td>\n",
       "      <td>Tommy Richman</td>\n",
       "    </tr>\n",
       "    <tr>\n",
       "      <th>3</th>\n",
       "      <td>Release Date</td>\n",
       "      <td>datetime64[ns]</td>\n",
       "      <td>0</td>\n",
       "      <td>1562</td>\n",
       "      <td>2024-04-26 00:00:00</td>\n",
       "    </tr>\n",
       "    <tr>\n",
       "      <th>4</th>\n",
       "      <td>ISRC</td>\n",
       "      <td>object</td>\n",
       "      <td>0</td>\n",
       "      <td>4598</td>\n",
       "      <td>QM24S2402528</td>\n",
       "    </tr>\n",
       "    <tr>\n",
       "      <th>5</th>\n",
       "      <td>All Time Rank</td>\n",
       "      <td>Int64</td>\n",
       "      <td>3596</td>\n",
       "      <td>999</td>\n",
       "      <td>1</td>\n",
       "    </tr>\n",
       "    <tr>\n",
       "      <th>6</th>\n",
       "      <td>Track Score</td>\n",
       "      <td>float64</td>\n",
       "      <td>0</td>\n",
       "      <td>862</td>\n",
       "      <td>725.4</td>\n",
       "    </tr>\n",
       "    <tr>\n",
       "      <th>7</th>\n",
       "      <td>Spotify Streams</td>\n",
       "      <td>Int64</td>\n",
       "      <td>113</td>\n",
       "      <td>4425</td>\n",
       "      <td>390470936</td>\n",
       "    </tr>\n",
       "    <tr>\n",
       "      <th>8</th>\n",
       "      <td>Spotify Playlist Count</td>\n",
       "      <td>Int64</td>\n",
       "      <td>70</td>\n",
       "      <td>4207</td>\n",
       "      <td>30716</td>\n",
       "    </tr>\n",
       "    <tr>\n",
       "      <th>9</th>\n",
       "      <td>Spotify Playlist Reach</td>\n",
       "      <td>Int64</td>\n",
       "      <td>72</td>\n",
       "      <td>4478</td>\n",
       "      <td>196631588</td>\n",
       "    </tr>\n",
       "    <tr>\n",
       "      <th>10</th>\n",
       "      <td>Spotify Popularity</td>\n",
       "      <td>float64</td>\n",
       "      <td>804</td>\n",
       "      <td>94</td>\n",
       "      <td>92.0</td>\n",
       "    </tr>\n",
       "    <tr>\n",
       "      <th>11</th>\n",
       "      <td>YouTube Views</td>\n",
       "      <td>Int64</td>\n",
       "      <td>308</td>\n",
       "      <td>4290</td>\n",
       "      <td>84274754</td>\n",
       "    </tr>\n",
       "    <tr>\n",
       "      <th>12</th>\n",
       "      <td>YouTube Likes</td>\n",
       "      <td>Int64</td>\n",
       "      <td>315</td>\n",
       "      <td>4283</td>\n",
       "      <td>1713126</td>\n",
       "    </tr>\n",
       "    <tr>\n",
       "      <th>13</th>\n",
       "      <td>TikTok Posts</td>\n",
       "      <td>Int64</td>\n",
       "      <td>1173</td>\n",
       "      <td>3318</td>\n",
       "      <td>5767700</td>\n",
       "    </tr>\n",
       "    <tr>\n",
       "      <th>14</th>\n",
       "      <td>TikTok Likes</td>\n",
       "      <td>Int64</td>\n",
       "      <td>980</td>\n",
       "      <td>3615</td>\n",
       "      <td>651565900</td>\n",
       "    </tr>\n",
       "    <tr>\n",
       "      <th>15</th>\n",
       "      <td>TikTok Views</td>\n",
       "      <td>Int64</td>\n",
       "      <td>981</td>\n",
       "      <td>3616</td>\n",
       "      <td>5332281936</td>\n",
       "    </tr>\n",
       "    <tr>\n",
       "      <th>16</th>\n",
       "      <td>YouTube Playlist Reach</td>\n",
       "      <td>Int64</td>\n",
       "      <td>1009</td>\n",
       "      <td>3458</td>\n",
       "      <td>150597040</td>\n",
       "    </tr>\n",
       "    <tr>\n",
       "      <th>17</th>\n",
       "      <td>Apple Music Playlist Count</td>\n",
       "      <td>Int64</td>\n",
       "      <td>561</td>\n",
       "      <td>322</td>\n",
       "      <td>210</td>\n",
       "    </tr>\n",
       "    <tr>\n",
       "      <th>18</th>\n",
       "      <td>AirPlay Spins</td>\n",
       "      <td>Int64</td>\n",
       "      <td>498</td>\n",
       "      <td>3267</td>\n",
       "      <td>40975</td>\n",
       "    </tr>\n",
       "    <tr>\n",
       "      <th>19</th>\n",
       "      <td>SiriusXM Spins</td>\n",
       "      <td>Int64</td>\n",
       "      <td>2123</td>\n",
       "      <td>689</td>\n",
       "      <td>684</td>\n",
       "    </tr>\n",
       "    <tr>\n",
       "      <th>20</th>\n",
       "      <td>Deezer Playlist Count</td>\n",
       "      <td>Int64</td>\n",
       "      <td>921</td>\n",
       "      <td>233</td>\n",
       "      <td>62</td>\n",
       "    </tr>\n",
       "    <tr>\n",
       "      <th>21</th>\n",
       "      <td>Deezer Playlist Reach</td>\n",
       "      <td>Int64</td>\n",
       "      <td>928</td>\n",
       "      <td>3558</td>\n",
       "      <td>17598718</td>\n",
       "    </tr>\n",
       "    <tr>\n",
       "      <th>22</th>\n",
       "      <td>Amazon Playlist Count</td>\n",
       "      <td>Int64</td>\n",
       "      <td>1055</td>\n",
       "      <td>147</td>\n",
       "      <td>114</td>\n",
       "    </tr>\n",
       "    <tr>\n",
       "      <th>23</th>\n",
       "      <td>Pandora Streams</td>\n",
       "      <td>Int64</td>\n",
       "      <td>1106</td>\n",
       "      <td>3491</td>\n",
       "      <td>18004655</td>\n",
       "    </tr>\n",
       "    <tr>\n",
       "      <th>24</th>\n",
       "      <td>Pandora Track Stations</td>\n",
       "      <td>Int64</td>\n",
       "      <td>1268</td>\n",
       "      <td>2975</td>\n",
       "      <td>22931</td>\n",
       "    </tr>\n",
       "    <tr>\n",
       "      <th>25</th>\n",
       "      <td>Soundcloud Streams</td>\n",
       "      <td>Int64</td>\n",
       "      <td>3333</td>\n",
       "      <td>1265</td>\n",
       "      <td>4818457</td>\n",
       "    </tr>\n",
       "    <tr>\n",
       "      <th>26</th>\n",
       "      <td>Shazam Counts</td>\n",
       "      <td>Int64</td>\n",
       "      <td>577</td>\n",
       "      <td>4002</td>\n",
       "      <td>2669262</td>\n",
       "    </tr>\n",
       "    <tr>\n",
       "      <th>27</th>\n",
       "      <td>TIDAL Popularity</td>\n",
       "      <td>float64</td>\n",
       "      <td>4600</td>\n",
       "      <td>0</td>\n",
       "      <td>None</td>\n",
       "    </tr>\n",
       "    <tr>\n",
       "      <th>28</th>\n",
       "      <td>Explicit Track</td>\n",
       "      <td>Int8</td>\n",
       "      <td>0</td>\n",
       "      <td>2</td>\n",
       "      <td>0</td>\n",
       "    </tr>\n",
       "  </tbody>\n",
       "</table>\n",
       "</div>"
      ],
      "text/plain": [
       "                        column           dtype  missing_count  unique_count  \\\n",
       "0                        Track          object              0          4370   \n",
       "1                   Album Name          object              0          4005   \n",
       "2                       Artist          object              5          1999   \n",
       "3                 Release Date  datetime64[ns]              0          1562   \n",
       "4                         ISRC          object              0          4598   \n",
       "5                All Time Rank           Int64           3596           999   \n",
       "6                  Track Score         float64              0           862   \n",
       "7              Spotify Streams           Int64            113          4425   \n",
       "8       Spotify Playlist Count           Int64             70          4207   \n",
       "9       Spotify Playlist Reach           Int64             72          4478   \n",
       "10          Spotify Popularity         float64            804            94   \n",
       "11               YouTube Views           Int64            308          4290   \n",
       "12               YouTube Likes           Int64            315          4283   \n",
       "13                TikTok Posts           Int64           1173          3318   \n",
       "14                TikTok Likes           Int64            980          3615   \n",
       "15                TikTok Views           Int64            981          3616   \n",
       "16      YouTube Playlist Reach           Int64           1009          3458   \n",
       "17  Apple Music Playlist Count           Int64            561           322   \n",
       "18               AirPlay Spins           Int64            498          3267   \n",
       "19              SiriusXM Spins           Int64           2123           689   \n",
       "20       Deezer Playlist Count           Int64            921           233   \n",
       "21       Deezer Playlist Reach           Int64            928          3558   \n",
       "22       Amazon Playlist Count           Int64           1055           147   \n",
       "23             Pandora Streams           Int64           1106          3491   \n",
       "24      Pandora Track Stations           Int64           1268          2975   \n",
       "25          Soundcloud Streams           Int64           3333          1265   \n",
       "26               Shazam Counts           Int64            577          4002   \n",
       "27            TIDAL Popularity         float64           4600             0   \n",
       "28              Explicit Track            Int8              0             2   \n",
       "\n",
       "                   example_value  \n",
       "0            MILLION DOLLAR BABY  \n",
       "1   Million Dollar Baby - Single  \n",
       "2                  Tommy Richman  \n",
       "3            2024-04-26 00:00:00  \n",
       "4                   QM24S2402528  \n",
       "5                              1  \n",
       "6                          725.4  \n",
       "7                      390470936  \n",
       "8                          30716  \n",
       "9                      196631588  \n",
       "10                          92.0  \n",
       "11                      84274754  \n",
       "12                       1713126  \n",
       "13                       5767700  \n",
       "14                     651565900  \n",
       "15                    5332281936  \n",
       "16                     150597040  \n",
       "17                           210  \n",
       "18                         40975  \n",
       "19                           684  \n",
       "20                            62  \n",
       "21                      17598718  \n",
       "22                           114  \n",
       "23                      18004655  \n",
       "24                         22931  \n",
       "25                       4818457  \n",
       "26                       2669262  \n",
       "27                          None  \n",
       "28                             0  "
      ]
     },
     "metadata": {},
     "output_type": "display_data"
    }
   ],
   "source": [
    "# Code để kiểm tra kiểu dữ liệu\n",
    "# như đã có bảng ở trên + bổ sung thêm giá trị thiếu, số lượng giá trị duy nhất, ví dụ 1 mẫu\n",
    "col_desc = pd.DataFrame({\n",
    "    \"column\": check_cols,\n",
    "    \"dtype\": [str(df[c].dtype) for c in check_cols],\n",
    "    \"missing_count\": [df[c].isna().sum() for c in check_cols],\n",
    "    \"unique_count\": [df[c].nunique(dropna=True) for c in check_cols],\n",
    "    \"example_value\": [df[c].dropna().iloc[0] if df[c].notna().any() else None for c in check_cols]\n",
    "})    \n",
    "\n",
    "display(col_desc)"
   ]
  },
  {
   "cell_type": "markdown",
   "id": "b5_dtypes_analysis",
   "metadata": {},
   "source": [
    "**Nhận xét:**\n",
    "- **Kiểu dữ liệu sau clean cơ bản hợp lý**:\n",
    "    - Cột định danh/mô tả (`Track`, `Album Name`, `Artist`, `ISRC`) để `object`\n",
    "    - Ngày (`Release Date`) đã ở `datetime64[ns]`\n",
    "    - Các chỉ số đếm/lượt đã chuyển sang số (`Int64`/`float64`)\n",
    "- `TIDAL Popularity`: toàn bộ thiếu (`missing_count = 4600`) => *loại khỏi phân tích* hoặc báo là “không có dữ liệu”\n",
    "- `All Time Rank`: thiếu nhiều (`3596`) => có thể chỉ đính kèm cho một tập con (ví dụ top ~1000). *Không phải lỗi dtype*, nhưng khi phân tích cần *loại bỏ NaN* hoặc nêu rõ phạm vi.\n",
    "- Các cột số đếm lớn (Streams/Views/Likes/Reach/Spins/Posts…) đã có dtype `Int64` => có thể tính toán trực tiếp (vẫn phải xử lý NaN trước)\n"
   ]
  },
  {
   "cell_type": "markdown",
   "id": "30809f1a",
   "metadata": {},
   "source": [
    "#### 6. Với mỗi cột dữ liệu số thì các giá trị được phân phối như thế nào?"
   ]
  },
  {
   "cell_type": "code",
   "execution_count": null,
   "id": "1d2b24b6",
   "metadata": {},
   "outputs": [],
   "source": [
    "# lấy các cột giá trị số dùng để tính toán thống kê mô tả\n",
    "numeric_cols = df.select_dtypes(include=[np.number]).columns"
   ]
  },
  {
   "cell_type": "markdown",
   "id": "b6_numerical_intro",
   "metadata": {},
   "source": [
    "##### 6.1. Tỉ lệ dữ liệu rỗng"
   ]
  },
  {
   "cell_type": "code",
   "execution_count": null,
   "id": "b6_missing_numerical",
   "metadata": {},
   "outputs": [
    {
     "name": "stdout",
     "output_type": "stream",
     "text": [
      "Tóm tắt về dữ liệu rỗng:\n"
     ]
    },
    {
     "data": {
      "text/html": [
       "<div>\n",
       "<style scoped>\n",
       "    .dataframe tbody tr th:only-of-type {\n",
       "        vertical-align: middle;\n",
       "    }\n",
       "\n",
       "    .dataframe tbody tr th {\n",
       "        vertical-align: top;\n",
       "    }\n",
       "\n",
       "    .dataframe thead th {\n",
       "        text-align: right;\n",
       "    }\n",
       "</style>\n",
       "<table border=\"1\" class=\"dataframe\">\n",
       "  <thead>\n",
       "    <tr style=\"text-align: right;\">\n",
       "      <th></th>\n",
       "      <th>column</th>\n",
       "      <th>missing_count</th>\n",
       "      <th>missing_rate_%</th>\n",
       "    </tr>\n",
       "  </thead>\n",
       "  <tbody>\n",
       "    <tr>\n",
       "      <th>0</th>\n",
       "      <td>TIDAL Popularity</td>\n",
       "      <td>4600</td>\n",
       "      <td>100.00</td>\n",
       "    </tr>\n",
       "    <tr>\n",
       "      <th>1</th>\n",
       "      <td>All Time Rank</td>\n",
       "      <td>3596</td>\n",
       "      <td>78.17</td>\n",
       "    </tr>\n",
       "    <tr>\n",
       "      <th>2</th>\n",
       "      <td>Soundcloud Streams</td>\n",
       "      <td>3333</td>\n",
       "      <td>72.46</td>\n",
       "    </tr>\n",
       "    <tr>\n",
       "      <th>3</th>\n",
       "      <td>SiriusXM Spins</td>\n",
       "      <td>2123</td>\n",
       "      <td>46.15</td>\n",
       "    </tr>\n",
       "    <tr>\n",
       "      <th>4</th>\n",
       "      <td>Pandora Track Stations</td>\n",
       "      <td>1268</td>\n",
       "      <td>27.57</td>\n",
       "    </tr>\n",
       "    <tr>\n",
       "      <th>5</th>\n",
       "      <td>TikTok Posts</td>\n",
       "      <td>1173</td>\n",
       "      <td>25.50</td>\n",
       "    </tr>\n",
       "    <tr>\n",
       "      <th>6</th>\n",
       "      <td>Pandora Streams</td>\n",
       "      <td>1106</td>\n",
       "      <td>24.04</td>\n",
       "    </tr>\n",
       "    <tr>\n",
       "      <th>7</th>\n",
       "      <td>Amazon Playlist Count</td>\n",
       "      <td>1055</td>\n",
       "      <td>22.93</td>\n",
       "    </tr>\n",
       "    <tr>\n",
       "      <th>8</th>\n",
       "      <td>YouTube Playlist Reach</td>\n",
       "      <td>1009</td>\n",
       "      <td>21.93</td>\n",
       "    </tr>\n",
       "    <tr>\n",
       "      <th>9</th>\n",
       "      <td>TikTok Views</td>\n",
       "      <td>981</td>\n",
       "      <td>21.33</td>\n",
       "    </tr>\n",
       "    <tr>\n",
       "      <th>10</th>\n",
       "      <td>TikTok Likes</td>\n",
       "      <td>980</td>\n",
       "      <td>21.30</td>\n",
       "    </tr>\n",
       "    <tr>\n",
       "      <th>11</th>\n",
       "      <td>Deezer Playlist Reach</td>\n",
       "      <td>928</td>\n",
       "      <td>20.17</td>\n",
       "    </tr>\n",
       "    <tr>\n",
       "      <th>12</th>\n",
       "      <td>Deezer Playlist Count</td>\n",
       "      <td>921</td>\n",
       "      <td>20.02</td>\n",
       "    </tr>\n",
       "    <tr>\n",
       "      <th>13</th>\n",
       "      <td>Spotify Popularity</td>\n",
       "      <td>804</td>\n",
       "      <td>17.48</td>\n",
       "    </tr>\n",
       "    <tr>\n",
       "      <th>14</th>\n",
       "      <td>Shazam Counts</td>\n",
       "      <td>577</td>\n",
       "      <td>12.54</td>\n",
       "    </tr>\n",
       "    <tr>\n",
       "      <th>15</th>\n",
       "      <td>Apple Music Playlist Count</td>\n",
       "      <td>561</td>\n",
       "      <td>12.20</td>\n",
       "    </tr>\n",
       "    <tr>\n",
       "      <th>16</th>\n",
       "      <td>AirPlay Spins</td>\n",
       "      <td>498</td>\n",
       "      <td>10.83</td>\n",
       "    </tr>\n",
       "    <tr>\n",
       "      <th>17</th>\n",
       "      <td>YouTube Likes</td>\n",
       "      <td>315</td>\n",
       "      <td>6.85</td>\n",
       "    </tr>\n",
       "    <tr>\n",
       "      <th>18</th>\n",
       "      <td>YouTube Views</td>\n",
       "      <td>308</td>\n",
       "      <td>6.70</td>\n",
       "    </tr>\n",
       "    <tr>\n",
       "      <th>19</th>\n",
       "      <td>Spotify Streams</td>\n",
       "      <td>113</td>\n",
       "      <td>2.46</td>\n",
       "    </tr>\n",
       "    <tr>\n",
       "      <th>20</th>\n",
       "      <td>Spotify Playlist Reach</td>\n",
       "      <td>72</td>\n",
       "      <td>1.57</td>\n",
       "    </tr>\n",
       "    <tr>\n",
       "      <th>21</th>\n",
       "      <td>Spotify Playlist Count</td>\n",
       "      <td>70</td>\n",
       "      <td>1.52</td>\n",
       "    </tr>\n",
       "    <tr>\n",
       "      <th>22</th>\n",
       "      <td>Track Score</td>\n",
       "      <td>0</td>\n",
       "      <td>0.00</td>\n",
       "    </tr>\n",
       "    <tr>\n",
       "      <th>23</th>\n",
       "      <td>Explicit Track</td>\n",
       "      <td>0</td>\n",
       "      <td>0.00</td>\n",
       "    </tr>\n",
       "  </tbody>\n",
       "</table>\n",
       "</div>"
      ],
      "text/plain": [
       "                        column  missing_count  missing_rate_%\n",
       "0             TIDAL Popularity           4600          100.00\n",
       "1                All Time Rank           3596           78.17\n",
       "2           Soundcloud Streams           3333           72.46\n",
       "3               SiriusXM Spins           2123           46.15\n",
       "4       Pandora Track Stations           1268           27.57\n",
       "5                 TikTok Posts           1173           25.50\n",
       "6              Pandora Streams           1106           24.04\n",
       "7        Amazon Playlist Count           1055           22.93\n",
       "8       YouTube Playlist Reach           1009           21.93\n",
       "9                 TikTok Views            981           21.33\n",
       "10                TikTok Likes            980           21.30\n",
       "11       Deezer Playlist Reach            928           20.17\n",
       "12       Deezer Playlist Count            921           20.02\n",
       "13          Spotify Popularity            804           17.48\n",
       "14               Shazam Counts            577           12.54\n",
       "15  Apple Music Playlist Count            561           12.20\n",
       "16               AirPlay Spins            498           10.83\n",
       "17               YouTube Likes            315            6.85\n",
       "18               YouTube Views            308            6.70\n",
       "19             Spotify Streams            113            2.46\n",
       "20      Spotify Playlist Reach             72            1.57\n",
       "21      Spotify Playlist Count             70            1.52\n",
       "22                 Track Score              0            0.00\n",
       "23              Explicit Track              0            0.00"
      ]
     },
     "metadata": {},
     "output_type": "display_data"
    }
   ],
   "source": [
    "# Code để kiểm tra giá trị rỗng trong các cột số\n",
    "missing_counts = df[numeric_cols].isna().sum()\n",
    "missing_rate = (missing_counts / len(df) * 100).round(2)\n",
    "\n",
    "missing_summary = (\n",
    "    pd.DataFrame({\n",
    "        \"column\": numeric_cols,\n",
    "        \"missing_count\": missing_counts.values,\n",
    "        \"missing_rate_%\": missing_rate.values\n",
    "    })\n",
    "    .sort_values(\"missing_rate_%\", ascending=False)\n",
    "    .reset_index(drop=True)\n",
    ")\n",
    "\n",
    "print(\"Tóm tắt về dữ liệu rỗng:\")\n",
    "display(missing_summary)\n"
   ]
  },
  {
   "cell_type": "markdown",
   "id": "b6_distribution",
   "metadata": {},
   "source": [
    "##### 6.2. Phân phối giá trị"
   ]
  },
  {
   "cell_type": "code",
   "execution_count": 31,
   "id": "b6_describe",
   "metadata": {},
   "outputs": [
    {
     "name": "stdout",
     "output_type": "stream",
     "text": [
      "Bảng thống kê nhanh + độ lệch (skew):\n"
     ]
    },
    {
     "data": {
      "text/html": [
       "<div>\n",
       "<style scoped>\n",
       "    .dataframe tbody tr th:only-of-type {\n",
       "        vertical-align: middle;\n",
       "    }\n",
       "\n",
       "    .dataframe tbody tr th {\n",
       "        vertical-align: top;\n",
       "    }\n",
       "\n",
       "    .dataframe thead th {\n",
       "        text-align: right;\n",
       "    }\n",
       "</style>\n",
       "<table border=\"1\" class=\"dataframe\">\n",
       "  <thead>\n",
       "    <tr style=\"text-align: right;\">\n",
       "      <th></th>\n",
       "      <th>count</th>\n",
       "      <th>mean</th>\n",
       "      <th>std</th>\n",
       "      <th>min</th>\n",
       "      <th>25%</th>\n",
       "      <th>50%</th>\n",
       "      <th>75%</th>\n",
       "      <th>max</th>\n",
       "      <th>skew</th>\n",
       "    </tr>\n",
       "  </thead>\n",
       "  <tbody>\n",
       "    <tr>\n",
       "      <th>All Time Rank</th>\n",
       "      <td>1004.0</td>\n",
       "      <td>499.976096</td>\n",
       "      <td>287.884853</td>\n",
       "      <td>1.0</td>\n",
       "      <td>251.75</td>\n",
       "      <td>499.5</td>\n",
       "      <td>748.25</td>\n",
       "      <td>999.0</td>\n",
       "      <td>0.00021</td>\n",
       "    </tr>\n",
       "    <tr>\n",
       "      <th>Track Score</th>\n",
       "      <td>4600.0</td>\n",
       "      <td>41.844043</td>\n",
       "      <td>38.543766</td>\n",
       "      <td>19.4</td>\n",
       "      <td>23.3</td>\n",
       "      <td>29.9</td>\n",
       "      <td>44.425</td>\n",
       "      <td>725.4</td>\n",
       "      <td>5.688223</td>\n",
       "    </tr>\n",
       "    <tr>\n",
       "      <th>Spotify Streams</th>\n",
       "      <td>4487.0</td>\n",
       "      <td>447387314.745933</td>\n",
       "      <td>538443905.28127</td>\n",
       "      <td>1071.0</td>\n",
       "      <td>70386298.5</td>\n",
       "      <td>239850720.0</td>\n",
       "      <td>628363805.0</td>\n",
       "      <td>4281468720.0</td>\n",
       "      <td>2.024287</td>\n",
       "    </tr>\n",
       "    <tr>\n",
       "      <th>Spotify Playlist Count</th>\n",
       "      <td>4530.0</td>\n",
       "      <td>59390.829801</td>\n",
       "      <td>71131.406625</td>\n",
       "      <td>1.0</td>\n",
       "      <td>6718.0</td>\n",
       "      <td>32312.5</td>\n",
       "      <td>86038.75</td>\n",
       "      <td>590392.0</td>\n",
       "      <td>1.836551</td>\n",
       "    </tr>\n",
       "    <tr>\n",
       "      <th>Spotify Playlist Reach</th>\n",
       "      <td>4528.0</td>\n",
       "      <td>23346816.055212</td>\n",
       "      <td>29687169.344045</td>\n",
       "      <td>1.0</td>\n",
       "      <td>4791611.5</td>\n",
       "      <td>13259481.0</td>\n",
       "      <td>29660692.5</td>\n",
       "      <td>262343414.0</td>\n",
       "      <td>2.596567</td>\n",
       "    </tr>\n",
       "    <tr>\n",
       "      <th>Spotify Popularity</th>\n",
       "      <td>3796.0</td>\n",
       "      <td>63.501581</td>\n",
       "      <td>16.186438</td>\n",
       "      <td>1.0</td>\n",
       "      <td>61.0</td>\n",
       "      <td>67.0</td>\n",
       "      <td>73.0</td>\n",
       "      <td>96.0</td>\n",
       "      <td>-2.051971</td>\n",
       "    </tr>\n",
       "    <tr>\n",
       "      <th>YouTube Views</th>\n",
       "      <td>4292.0</td>\n",
       "      <td>402796728.980196</td>\n",
       "      <td>701900000.895103</td>\n",
       "      <td>913.0</td>\n",
       "      <td>40730320.25</td>\n",
       "      <td>148269610.0</td>\n",
       "      <td>464788240.5</td>\n",
       "      <td>16322756555.0</td>\n",
       "      <td>6.024589</td>\n",
       "    </tr>\n",
       "    <tr>\n",
       "      <th>YouTube Likes</th>\n",
       "      <td>4285.0</td>\n",
       "      <td>2930048.625204</td>\n",
       "      <td>4593640.460858</td>\n",
       "      <td>25.0</td>\n",
       "      <td>409549.0</td>\n",
       "      <td>1257935.0</td>\n",
       "      <td>3573193.0</td>\n",
       "      <td>62311179.0</td>\n",
       "      <td>4.222932</td>\n",
       "    </tr>\n",
       "    <tr>\n",
       "      <th>TikTok Posts</th>\n",
       "      <td>3427.0</td>\n",
       "      <td>944307.620076</td>\n",
       "      <td>2442079.611844</td>\n",
       "      <td>1.0</td>\n",
       "      <td>38186.5</td>\n",
       "      <td>182200.0</td>\n",
       "      <td>794877.5</td>\n",
       "      <td>42900000.0</td>\n",
       "      <td>7.628249</td>\n",
       "    </tr>\n",
       "    <tr>\n",
       "      <th>TikTok Likes</th>\n",
       "      <td>3620.0</td>\n",
       "      <td>112637464.571271</td>\n",
       "      <td>549812332.340658</td>\n",
       "      <td>3.0</td>\n",
       "      <td>5814876.5</td>\n",
       "      <td>26534406.0</td>\n",
       "      <td>93284184.0</td>\n",
       "      <td>23474223833.0</td>\n",
       "      <td>32.059905</td>\n",
       "    </tr>\n",
       "    <tr>\n",
       "      <th>TikTok Views</th>\n",
       "      <td>3619.0</td>\n",
       "      <td>1161157789.833656</td>\n",
       "      <td>5881583551.133888</td>\n",
       "      <td>19.0</td>\n",
       "      <td>59027855.5</td>\n",
       "      <td>265917250.0</td>\n",
       "      <td>913416942.0</td>\n",
       "      <td>233232311463.0</td>\n",
       "      <td>31.01837</td>\n",
       "    </tr>\n",
       "    <tr>\n",
       "      <th>YouTube Playlist Reach</th>\n",
       "      <td>3591.0</td>\n",
       "      <td>343960146.308271</td>\n",
       "      <td>670481067.525723</td>\n",
       "      <td>1.0</td>\n",
       "      <td>11718691.0</td>\n",
       "      <td>98142716.0</td>\n",
       "      <td>311405947.5</td>\n",
       "      <td>7289707052.0</td>\n",
       "      <td>3.683155</td>\n",
       "    </tr>\n",
       "    <tr>\n",
       "      <th>Apple Music Playlist Count</th>\n",
       "      <td>4039.0</td>\n",
       "      <td>54.60312</td>\n",
       "      <td>71.61227</td>\n",
       "      <td>1.0</td>\n",
       "      <td>10.0</td>\n",
       "      <td>28.0</td>\n",
       "      <td>70.0</td>\n",
       "      <td>859.0</td>\n",
       "      <td>2.888175</td>\n",
       "    </tr>\n",
       "    <tr>\n",
       "      <th>AirPlay Spins</th>\n",
       "      <td>4102.0</td>\n",
       "      <td>55139.156753</td>\n",
       "      <td>127917.760123</td>\n",
       "      <td>1.0</td>\n",
       "      <td>479.25</td>\n",
       "      <td>5953.5</td>\n",
       "      <td>46413.5</td>\n",
       "      <td>1777811.0</td>\n",
       "      <td>5.166254</td>\n",
       "    </tr>\n",
       "    <tr>\n",
       "      <th>SiriusXM Spins</th>\n",
       "      <td>2477.0</td>\n",
       "      <td>257.344368</td>\n",
       "      <td>554.737321</td>\n",
       "      <td>1.0</td>\n",
       "      <td>25.0</td>\n",
       "      <td>86.0</td>\n",
       "      <td>255.0</td>\n",
       "      <td>7098.0</td>\n",
       "      <td>6.076833</td>\n",
       "    </tr>\n",
       "    <tr>\n",
       "      <th>Deezer Playlist Count</th>\n",
       "      <td>3679.0</td>\n",
       "      <td>32.310954</td>\n",
       "      <td>54.274538</td>\n",
       "      <td>1.0</td>\n",
       "      <td>5.0</td>\n",
       "      <td>15.0</td>\n",
       "      <td>37.0</td>\n",
       "      <td>632.0</td>\n",
       "      <td>4.794164</td>\n",
       "    </tr>\n",
       "    <tr>\n",
       "      <th>Deezer Playlist Reach</th>\n",
       "      <td>3672.0</td>\n",
       "      <td>1294938.737745</td>\n",
       "      <td>3555542.808592</td>\n",
       "      <td>1.0</td>\n",
       "      <td>52166.0</td>\n",
       "      <td>237120.5</td>\n",
       "      <td>906301.25</td>\n",
       "      <td>48197850.0</td>\n",
       "      <td>6.119986</td>\n",
       "    </tr>\n",
       "    <tr>\n",
       "      <th>Amazon Playlist Count</th>\n",
       "      <td>3545.0</td>\n",
       "      <td>25.348942</td>\n",
       "      <td>25.989826</td>\n",
       "      <td>1.0</td>\n",
       "      <td>8.0</td>\n",
       "      <td>17.0</td>\n",
       "      <td>34.0</td>\n",
       "      <td>210.0</td>\n",
       "      <td>2.185984</td>\n",
       "    </tr>\n",
       "    <tr>\n",
       "      <th>Pandora Streams</th>\n",
       "      <td>3494.0</td>\n",
       "      <td>85667349.255581</td>\n",
       "      <td>167878487.919675</td>\n",
       "      <td>2.0</td>\n",
       "      <td>1057955.25</td>\n",
       "      <td>12735768.5</td>\n",
       "      <td>81501207.5</td>\n",
       "      <td>1463624043.0</td>\n",
       "      <td>3.152273</td>\n",
       "    </tr>\n",
       "    <tr>\n",
       "      <th>Pandora Track Stations</th>\n",
       "      <td>3332.0</td>\n",
       "      <td>87876.965786</td>\n",
       "      <td>260853.716403</td>\n",
       "      <td>1.0</td>\n",
       "      <td>1261.5</td>\n",
       "      <td>7832.0</td>\n",
       "      <td>49224.0</td>\n",
       "      <td>3780513.0</td>\n",
       "      <td>6.718052</td>\n",
       "    </tr>\n",
       "    <tr>\n",
       "      <th>Soundcloud Streams</th>\n",
       "      <td>1267.0</td>\n",
       "      <td>14847968.416732</td>\n",
       "      <td>32132814.763382</td>\n",
       "      <td>18.0</td>\n",
       "      <td>768407.5</td>\n",
       "      <td>3224599.0</td>\n",
       "      <td>13387599.0</td>\n",
       "      <td>319835943.0</td>\n",
       "      <td>4.372258</td>\n",
       "    </tr>\n",
       "    <tr>\n",
       "      <th>Shazam Counts</th>\n",
       "      <td>4023.0</td>\n",
       "      <td>2529148.692767</td>\n",
       "      <td>6038785.837993</td>\n",
       "      <td>1.0</td>\n",
       "      <td>230195.0</td>\n",
       "      <td>854584.0</td>\n",
       "      <td>2684638.0</td>\n",
       "      <td>219794543.0</td>\n",
       "      <td>18.478889</td>\n",
       "    </tr>\n",
       "    <tr>\n",
       "      <th>TIDAL Popularity</th>\n",
       "      <td>0.0</td>\n",
       "      <td>NaN</td>\n",
       "      <td>NaN</td>\n",
       "      <td>NaN</td>\n",
       "      <td>NaN</td>\n",
       "      <td>NaN</td>\n",
       "      <td>NaN</td>\n",
       "      <td>NaN</td>\n",
       "      <td>&lt;NA&gt;</td>\n",
       "    </tr>\n",
       "    <tr>\n",
       "      <th>Explicit Track</th>\n",
       "      <td>4600.0</td>\n",
       "      <td>0.358913</td>\n",
       "      <td>0.479734</td>\n",
       "      <td>0.0</td>\n",
       "      <td>0.0</td>\n",
       "      <td>0.0</td>\n",
       "      <td>1.0</td>\n",
       "      <td>1.0</td>\n",
       "      <td>0.588444</td>\n",
       "    </tr>\n",
       "  </tbody>\n",
       "</table>\n",
       "</div>"
      ],
      "text/plain": [
       "                             count               mean                std  \\\n",
       "All Time Rank               1004.0         499.976096         287.884853   \n",
       "Track Score                 4600.0          41.844043          38.543766   \n",
       "Spotify Streams             4487.0   447387314.745933    538443905.28127   \n",
       "Spotify Playlist Count      4530.0       59390.829801       71131.406625   \n",
       "Spotify Playlist Reach      4528.0    23346816.055212    29687169.344045   \n",
       "Spotify Popularity          3796.0          63.501581          16.186438   \n",
       "YouTube Views               4292.0   402796728.980196   701900000.895103   \n",
       "YouTube Likes               4285.0     2930048.625204     4593640.460858   \n",
       "TikTok Posts                3427.0      944307.620076     2442079.611844   \n",
       "TikTok Likes                3620.0   112637464.571271   549812332.340658   \n",
       "TikTok Views                3619.0  1161157789.833656  5881583551.133888   \n",
       "YouTube Playlist Reach      3591.0   343960146.308271   670481067.525723   \n",
       "Apple Music Playlist Count  4039.0           54.60312           71.61227   \n",
       "AirPlay Spins               4102.0       55139.156753      127917.760123   \n",
       "SiriusXM Spins              2477.0         257.344368         554.737321   \n",
       "Deezer Playlist Count       3679.0          32.310954          54.274538   \n",
       "Deezer Playlist Reach       3672.0     1294938.737745     3555542.808592   \n",
       "Amazon Playlist Count       3545.0          25.348942          25.989826   \n",
       "Pandora Streams             3494.0    85667349.255581   167878487.919675   \n",
       "Pandora Track Stations      3332.0       87876.965786      260853.716403   \n",
       "Soundcloud Streams          1267.0    14847968.416732    32132814.763382   \n",
       "Shazam Counts               4023.0     2529148.692767     6038785.837993   \n",
       "TIDAL Popularity               0.0                NaN                NaN   \n",
       "Explicit Track              4600.0           0.358913           0.479734   \n",
       "\n",
       "                               min          25%          50%          75%  \\\n",
       "All Time Rank                  1.0       251.75        499.5       748.25   \n",
       "Track Score                   19.4         23.3         29.9       44.425   \n",
       "Spotify Streams             1071.0   70386298.5  239850720.0  628363805.0   \n",
       "Spotify Playlist Count         1.0       6718.0      32312.5     86038.75   \n",
       "Spotify Playlist Reach         1.0    4791611.5   13259481.0   29660692.5   \n",
       "Spotify Popularity             1.0         61.0         67.0         73.0   \n",
       "YouTube Views                913.0  40730320.25  148269610.0  464788240.5   \n",
       "YouTube Likes                 25.0     409549.0    1257935.0    3573193.0   \n",
       "TikTok Posts                   1.0      38186.5     182200.0     794877.5   \n",
       "TikTok Likes                   3.0    5814876.5   26534406.0   93284184.0   \n",
       "TikTok Views                  19.0   59027855.5  265917250.0  913416942.0   \n",
       "YouTube Playlist Reach         1.0   11718691.0   98142716.0  311405947.5   \n",
       "Apple Music Playlist Count     1.0         10.0         28.0         70.0   \n",
       "AirPlay Spins                  1.0       479.25       5953.5      46413.5   \n",
       "SiriusXM Spins                 1.0         25.0         86.0        255.0   \n",
       "Deezer Playlist Count          1.0          5.0         15.0         37.0   \n",
       "Deezer Playlist Reach          1.0      52166.0     237120.5    906301.25   \n",
       "Amazon Playlist Count          1.0          8.0         17.0         34.0   \n",
       "Pandora Streams                2.0   1057955.25   12735768.5   81501207.5   \n",
       "Pandora Track Stations         1.0       1261.5       7832.0      49224.0   \n",
       "Soundcloud Streams            18.0     768407.5    3224599.0   13387599.0   \n",
       "Shazam Counts                  1.0     230195.0     854584.0    2684638.0   \n",
       "TIDAL Popularity               NaN          NaN          NaN          NaN   \n",
       "Explicit Track                 0.0          0.0          0.0          1.0   \n",
       "\n",
       "                                       max       skew  \n",
       "All Time Rank                        999.0    0.00021  \n",
       "Track Score                          725.4   5.688223  \n",
       "Spotify Streams               4281468720.0   2.024287  \n",
       "Spotify Playlist Count            590392.0   1.836551  \n",
       "Spotify Playlist Reach         262343414.0   2.596567  \n",
       "Spotify Popularity                    96.0  -2.051971  \n",
       "YouTube Views                16322756555.0   6.024589  \n",
       "YouTube Likes                   62311179.0   4.222932  \n",
       "TikTok Posts                    42900000.0   7.628249  \n",
       "TikTok Likes                 23474223833.0  32.059905  \n",
       "TikTok Views                233232311463.0   31.01837  \n",
       "YouTube Playlist Reach        7289707052.0   3.683155  \n",
       "Apple Music Playlist Count           859.0   2.888175  \n",
       "AirPlay Spins                    1777811.0   5.166254  \n",
       "SiriusXM Spins                      7098.0   6.076833  \n",
       "Deezer Playlist Count                632.0   4.794164  \n",
       "Deezer Playlist Reach           48197850.0   6.119986  \n",
       "Amazon Playlist Count                210.0   2.185984  \n",
       "Pandora Streams               1463624043.0   3.152273  \n",
       "Pandora Track Stations           3780513.0   6.718052  \n",
       "Soundcloud Streams             319835943.0   4.372258  \n",
       "Shazam Counts                  219794543.0  18.478889  \n",
       "TIDAL Popularity                       NaN       <NA>  \n",
       "Explicit Track                         1.0   0.588444  "
      ]
     },
     "metadata": {},
     "output_type": "display_data"
    }
   ],
   "source": [
    "# Code để xem thống kê mô tả các cột số\n",
    "\n",
    "# 1) bảng thống kê nhanh + độ lệch (skew) để nhận biết phân phối lệch phải/trái\n",
    "print(\"Bảng thống kê nhanh + độ lệch (skew):\")\n",
    "stats_summary = df[numeric_cols].describe().T\n",
    "stats_summary[\"skew\"] = df[numeric_cols].skew(numeric_only=True)\n",
    "display(stats_summary)\n"
   ]
  },
  {
   "cell_type": "code",
   "execution_count": null,
   "id": "bd6429be",
   "metadata": {},
   "outputs": [
    {
     "name": "stdout",
     "output_type": "stream",
     "text": [
      "\n",
      "Biểu đồ histogram cho các cột số:\n"
     ]
    },
    {
     "data": {
      "image/png": "[encoded data removed]",
      "text/plain": [
       "<Figure size 500x300 with 1 Axes>"
      ]
     },
     "metadata": {},
     "output_type": "display_data"
    },
    {
     "data": {
      "image/png": "[encoded data removed]",
      "text/plain": [
       "<Figure size 500x300 with 1 Axes>"
      ]
     },
     "metadata": {},
     "output_type": "display_data"
    },
    {
     "data": {
      "image/png": "[encoded data removed]",
      "text/plain": [
       "<Figure size 500x300 with 1 Axes>"
      ]
     },
     "metadata": {},
     "output_type": "display_data"
    },
    {
     "data": {
      "image/png": "[encoded data removed]",
      "text/plain": [
       "<Figure size 500x300 with 1 Axes>"
      ]
     },
     "metadata": {},
     "output_type": "display_data"
    },
    {
     "data": {
      "image/png": "[encoded data removed]",
      "text/plain": [
       "<Figure size 500x300 with 1 Axes>"
      ]
     },
     "metadata": {},
     "output_type": "display_data"
    },
    {
     "data": {
      "image/png": "[encoded data removed]",
      "text/plain": [
       "<Figure size 500x300 with 1 Axes>"
      ]
     },
     "metadata": {},
     "output_type": "display_data"
    },
    {
     "data": {
      "image/png": "[encoded data removed]",
      "text/plain": [
       "<Figure size 500x300 with 1 Axes>"
      ]
     },
     "metadata": {},
     "output_type": "display_data"
    },
    {
     "data": {
      "image/png": "[encoded data removed]",
      "text/plain": [
       "<Figure size 500x300 with 1 Axes>"
      ]
     },
     "metadata": {},
     "output_type": "display_data"
    },
    {
     "data": {
      "image/png": "[encoded data removed]",
      "text/plain": [
       "<Figure size 500x300 with 1 Axes>"
      ]
     },
     "metadata": {},
     "output_type": "display_data"
    },
    {
     "data": {
      "image/png": "[encoded data removed]",
      "text/plain": [
       "<Figure size 500x300 with 1 Axes>"
      ]
     },
     "metadata": {},
     "output_type": "display_data"
    },
    {
     "data": {
      "image/png": "[encoded data removed]",
      "text/plain": [
       "<Figure size 500x300 with 1 Axes>"
      ]
     },
     "metadata": {},
     "output_type": "display_data"
    },
    {
     "data": {
      "image/png": "[encoded data removed]",
      "text/plain": [
       "<Figure size 500x300 with 1 Axes>"
      ]
     },
     "metadata": {},
     "output_type": "display_data"
    },
    {
     "data": {
      "image/png": "[encoded data removed]",
      "text/plain": [
       "<Figure size 500x300 with 1 Axes>"
      ]
     },
     "metadata": {},
     "output_type": "display_data"
    },
    {
     "data": {
      "image/png": "[encoded data removed]",
      "text/plain": [
       "<Figure size 500x300 with 1 Axes>"
      ]
     },
     "metadata": {},
     "output_type": "display_data"
    },
    {
     "data": {
      "image/png": "[encoded data removed]",
      "text/plain": [
       "<Figure size 500x300 with 1 Axes>"
      ]
     },
     "metadata": {},
     "output_type": "display_data"
    },
    {
     "data": {
      "image/png": "[encoded data removed]",
      "text/plain": [
       "<Figure size 500x300 with 1 Axes>"
      ]
     },
     "metadata": {},
     "output_type": "display_data"
    },
    {
     "data": {
      "image/png": "[encoded data removed]",
      "text/plain": [
       "<Figure size 500x300 with 1 Axes>"
      ]
     },
     "metadata": {},
     "output_type": "display_data"
    },
    {
     "data": {
      "image/png": "[encoded data removed]",
      "text/plain": [
       "<Figure size 500x300 with 1 Axes>"
      ]
     },
     "metadata": {},
     "output_type": "display_data"
    },
    {
     "data": {
      "image/png": "[encoded data removed]",
      "text/plain": [
       "<Figure size 500x300 with 1 Axes>"
      ]
     },
     "metadata": {},
     "output_type": "display_data"
    },
    {
     "data": {
      "image/png": "[encoded data removed]",
      "text/plain": [
       "<Figure size 500x300 with 1 Axes>"
      ]
     },
     "metadata": {},
     "output_type": "display_data"
    },
    {
     "data": {
      "image/png": "[encoded data removed]",
      "text/plain": [
       "<Figure size 500x300 with 1 Axes>"
      ]
     },
     "metadata": {},
     "output_type": "display_data"
    },
    {
     "data": {
      "image/png": "[encoded data removed]",
      "text/plain": [
       "<Figure size 500x300 with 1 Axes>"
      ]
     },
     "metadata": {},
     "output_type": "display_data"
    },
    {
     "data": {
      "image/png": "[encoded data removed]",
      "text/plain": [
       "<Figure size 500x300 with 1 Axes>"
      ]
     },
     "metadata": {},
     "output_type": "display_data"
    }
   ],
   "source": [
    "# 2) vẽ histogram cho từng cột số (mỗi cột một biểu đồ)\n",
    "print(\"\\nBiểu đồ histogram cho các cột số:\")\n",
    "for col in numeric_cols:\n",
    "    series = df[col].dropna()\n",
    "    if series.empty: \n",
    "        continue\n",
    "    plt.figure(figsize=(5, 3))\n",
    "    plt.hist(series, bins=\"auto\") \n",
    "    plt.title(f\"Histogram: {col}\")\n",
    "    plt.xlabel(col)\n",
    "    plt.ylabel(\"Frequency\")\n",
    "    plt.tight_layout()\n",
    "    plt.show()"
   ]
  },
  {
   "cell_type": "markdown",
   "id": "b6_minmax",
   "metadata": {},
   "source": [
    "##### 6.3. Giá trị nhỏ nhất và lớn nhất"
   ]
  },
  {
   "cell_type": "code",
   "execution_count": 33,
   "id": "b6_minmax_code",
   "metadata": {},
   "outputs": [
    {
     "name": "stdout",
     "output_type": "stream",
     "text": [
      "Tóm tắt giá trị min và max:\n"
     ]
    },
    {
     "data": {
      "text/html": [
       "<div>\n",
       "<style scoped>\n",
       "    .dataframe tbody tr th:only-of-type {\n",
       "        vertical-align: middle;\n",
       "    }\n",
       "\n",
       "    .dataframe tbody tr th {\n",
       "        vertical-align: top;\n",
       "    }\n",
       "\n",
       "    .dataframe thead th {\n",
       "        text-align: right;\n",
       "    }\n",
       "</style>\n",
       "<table border=\"1\" class=\"dataframe\">\n",
       "  <thead>\n",
       "    <tr style=\"text-align: right;\">\n",
       "      <th></th>\n",
       "      <th>column</th>\n",
       "      <th>min</th>\n",
       "      <th>max</th>\n",
       "    </tr>\n",
       "  </thead>\n",
       "  <tbody>\n",
       "    <tr>\n",
       "      <th>0</th>\n",
       "      <td>AirPlay Spins</td>\n",
       "      <td>1.0</td>\n",
       "      <td>1777811.0</td>\n",
       "    </tr>\n",
       "    <tr>\n",
       "      <th>1</th>\n",
       "      <td>All Time Rank</td>\n",
       "      <td>1.0</td>\n",
       "      <td>999.0</td>\n",
       "    </tr>\n",
       "    <tr>\n",
       "      <th>2</th>\n",
       "      <td>Amazon Playlist Count</td>\n",
       "      <td>1.0</td>\n",
       "      <td>210.0</td>\n",
       "    </tr>\n",
       "    <tr>\n",
       "      <th>3</th>\n",
       "      <td>Apple Music Playlist Count</td>\n",
       "      <td>1.0</td>\n",
       "      <td>859.0</td>\n",
       "    </tr>\n",
       "    <tr>\n",
       "      <th>4</th>\n",
       "      <td>Deezer Playlist Count</td>\n",
       "      <td>1.0</td>\n",
       "      <td>632.0</td>\n",
       "    </tr>\n",
       "    <tr>\n",
       "      <th>5</th>\n",
       "      <td>Deezer Playlist Reach</td>\n",
       "      <td>1.0</td>\n",
       "      <td>48197850.0</td>\n",
       "    </tr>\n",
       "    <tr>\n",
       "      <th>6</th>\n",
       "      <td>Explicit Track</td>\n",
       "      <td>0.0</td>\n",
       "      <td>1.0</td>\n",
       "    </tr>\n",
       "    <tr>\n",
       "      <th>7</th>\n",
       "      <td>Pandora Streams</td>\n",
       "      <td>2.0</td>\n",
       "      <td>1463624043.0</td>\n",
       "    </tr>\n",
       "    <tr>\n",
       "      <th>8</th>\n",
       "      <td>Pandora Track Stations</td>\n",
       "      <td>1.0</td>\n",
       "      <td>3780513.0</td>\n",
       "    </tr>\n",
       "    <tr>\n",
       "      <th>9</th>\n",
       "      <td>Shazam Counts</td>\n",
       "      <td>1.0</td>\n",
       "      <td>219794543.0</td>\n",
       "    </tr>\n",
       "    <tr>\n",
       "      <th>10</th>\n",
       "      <td>SiriusXM Spins</td>\n",
       "      <td>1.0</td>\n",
       "      <td>7098.0</td>\n",
       "    </tr>\n",
       "    <tr>\n",
       "      <th>11</th>\n",
       "      <td>Soundcloud Streams</td>\n",
       "      <td>18.0</td>\n",
       "      <td>319835943.0</td>\n",
       "    </tr>\n",
       "    <tr>\n",
       "      <th>12</th>\n",
       "      <td>Spotify Playlist Count</td>\n",
       "      <td>1.0</td>\n",
       "      <td>590392.0</td>\n",
       "    </tr>\n",
       "    <tr>\n",
       "      <th>13</th>\n",
       "      <td>Spotify Playlist Reach</td>\n",
       "      <td>1.0</td>\n",
       "      <td>262343414.0</td>\n",
       "    </tr>\n",
       "    <tr>\n",
       "      <th>14</th>\n",
       "      <td>Spotify Popularity</td>\n",
       "      <td>1.0</td>\n",
       "      <td>96.0</td>\n",
       "    </tr>\n",
       "    <tr>\n",
       "      <th>15</th>\n",
       "      <td>Spotify Streams</td>\n",
       "      <td>1071.0</td>\n",
       "      <td>4281468720.0</td>\n",
       "    </tr>\n",
       "    <tr>\n",
       "      <th>16</th>\n",
       "      <td>TIDAL Popularity</td>\n",
       "      <td>&lt;NA&gt;</td>\n",
       "      <td>&lt;NA&gt;</td>\n",
       "    </tr>\n",
       "    <tr>\n",
       "      <th>17</th>\n",
       "      <td>TikTok Likes</td>\n",
       "      <td>3.0</td>\n",
       "      <td>23474223833.0</td>\n",
       "    </tr>\n",
       "    <tr>\n",
       "      <th>18</th>\n",
       "      <td>TikTok Posts</td>\n",
       "      <td>1.0</td>\n",
       "      <td>42900000.0</td>\n",
       "    </tr>\n",
       "    <tr>\n",
       "      <th>19</th>\n",
       "      <td>TikTok Views</td>\n",
       "      <td>19.0</td>\n",
       "      <td>233232311463.0</td>\n",
       "    </tr>\n",
       "    <tr>\n",
       "      <th>20</th>\n",
       "      <td>Track Score</td>\n",
       "      <td>19.4</td>\n",
       "      <td>725.4</td>\n",
       "    </tr>\n",
       "    <tr>\n",
       "      <th>21</th>\n",
       "      <td>YouTube Likes</td>\n",
       "      <td>25.0</td>\n",
       "      <td>62311179.0</td>\n",
       "    </tr>\n",
       "    <tr>\n",
       "      <th>22</th>\n",
       "      <td>YouTube Playlist Reach</td>\n",
       "      <td>1.0</td>\n",
       "      <td>7289707052.0</td>\n",
       "    </tr>\n",
       "    <tr>\n",
       "      <th>23</th>\n",
       "      <td>YouTube Views</td>\n",
       "      <td>913.0</td>\n",
       "      <td>16322756555.0</td>\n",
       "    </tr>\n",
       "  </tbody>\n",
       "</table>\n",
       "</div>"
      ],
      "text/plain": [
       "                        column     min             max\n",
       "0                AirPlay Spins     1.0       1777811.0\n",
       "1                All Time Rank     1.0           999.0\n",
       "2        Amazon Playlist Count     1.0           210.0\n",
       "3   Apple Music Playlist Count     1.0           859.0\n",
       "4        Deezer Playlist Count     1.0           632.0\n",
       "5        Deezer Playlist Reach     1.0      48197850.0\n",
       "6               Explicit Track     0.0             1.0\n",
       "7              Pandora Streams     2.0    1463624043.0\n",
       "8       Pandora Track Stations     1.0       3780513.0\n",
       "9                Shazam Counts     1.0     219794543.0\n",
       "10              SiriusXM Spins     1.0          7098.0\n",
       "11          Soundcloud Streams    18.0     319835943.0\n",
       "12      Spotify Playlist Count     1.0        590392.0\n",
       "13      Spotify Playlist Reach     1.0     262343414.0\n",
       "14          Spotify Popularity     1.0            96.0\n",
       "15             Spotify Streams  1071.0    4281468720.0\n",
       "16            TIDAL Popularity    <NA>            <NA>\n",
       "17                TikTok Likes     3.0   23474223833.0\n",
       "18                TikTok Posts     1.0      42900000.0\n",
       "19                TikTok Views    19.0  233232311463.0\n",
       "20                 Track Score    19.4           725.4\n",
       "21               YouTube Likes    25.0      62311179.0\n",
       "22      YouTube Playlist Reach     1.0    7289707052.0\n",
       "23               YouTube Views   913.0   16322756555.0"
      ]
     },
     "metadata": {},
     "output_type": "display_data"
    }
   ],
   "source": [
    "# Code để kiểm tra min, max\n",
    "# lấy min/max\n",
    "min_values = df[numeric_cols].min()\n",
    "max_values = df[numeric_cols].max()\n",
    "\n",
    "# tạo bảng tóm tắt \n",
    "minmax_summary = (\n",
    "    pd.DataFrame({\"column\": numeric_cols, \"min\": min_values.values, \"max\": max_values.values})\n",
    "    .sort_values(\"column\")\n",
    "    .reset_index(drop=True)\n",
    ")\n",
    "\n",
    "print(\"Tóm tắt giá trị min và max:\")\n",
    "display(minmax_summary)\n"
   ]
  },
  {
   "cell_type": "markdown",
   "id": "b6_minmax_analysis",
   "metadata": {},
   "source": [
    "**Nhận xét về tính bất thường:**\n",
    "\n",
    "- `TIDAL Popularity` trống 100% => bỏ khỏi phân tích. Nhiều biến theo nền tảng khác cũng thiếu khá nhiều (All Time Rank ~78%, Soundcloud ~72%, SiriusXM ~46%, nhóm Pandora/TikTok/Deezer ~20–30%). Khả năng cao đây là thiếu “theo hệ thống” (MNAR) => *không nên thay NaN bằng 0 bừa*\n",
    "\n",
    "- Các biến đếm (Streams/Views/Likes/Reach/Posts/Spins) *lệch phải rất mạnh*: median thấp nhưng có vài giá trị cực lớn (YouTube/TikTok/Spotify) => Khi mô tả nên dùng *median + IQR*; Khi vẽ/corr nên *log1p* hoặc *winsorize* (ví dụ 99.5%)\n",
    "\n",
    "- Có *ngoại lệ cực đại* (ví dụ YouTube Views ~1.63e10, TikTok Views ~2.33e11, Spotify Streams ~4.28e9), các điểm này sẽ kéo mean/corr => cần xử lý trước khi suy luận\n",
    "\n",
    "- `Spotify Popularity` *lệch trái* (skew âm), bị chặn trong [0,100] và còn thiếu ~17.5% => nếu dùng làm tiêu chí lọc hay biến mục tiêu thì phải ghi rõ phạm vi dữ liệu còn lại\n",
    "\n",
    "- `Track Score` *lệch phải mạnh* (skew ~5.69), trần rất cao (~725) => thang điểm không tuyến tính; mô tả trung vị/IQR sẽ chuẩn hơn so với mean\n",
    "\n",
    "- Nhiều biến có *min = 1* (không thấy 0): dấu hiệu dữ liệu chỉ ghi khi đã xuất hiện (censoring). Không nên hiểu `1` là “rất ít” hay “không có”.\n",
    "\n",
    "- `All Time Rank` chỉ xuất hiện trên ~1000 bản ghi (min=1, max=999, skew ~0) => trường này chỉ áp cho *tập con* (có thể là Top ~1000). Nếu phân tích theo rank, cần lọc đúng tập này\n",
    "\n",
    "- `Explicit Track` là *binary* 0/1, phân bố ổn (tầm ~1/3 có flag). Không có vấn đề về kiểu dữ liệu.\n"
   ]
  },
  {
   "cell_type": "markdown",
   "id": "b7_categorical",
   "metadata": {},
   "source": [
    "#### 7. Với mỗi cột dữ liệu phân loại thì các giá trị được phân phối như thế nào?"
   ]
  },
  {
   "cell_type": "markdown",
   "id": "b7_categorical_missing",
   "metadata": {},
   "source": [
    "##### 7.1. Tỉ lệ dữ liệu rỗng"
   ]
  },
  {
   "cell_type": "code",
   "execution_count": 37,
   "id": "b7_missing_categorical",
   "metadata": {},
   "outputs": [
    {
     "name": "stdout",
     "output_type": "stream",
     "text": [
      "Tóm tắt về dữ liệu rỗng trong các cột phân loại:\n"
     ]
    },
    {
     "data": {
      "text/html": [
       "<div>\n",
       "<style scoped>\n",
       "    .dataframe tbody tr th:only-of-type {\n",
       "        vertical-align: middle;\n",
       "    }\n",
       "\n",
       "    .dataframe tbody tr th {\n",
       "        vertical-align: top;\n",
       "    }\n",
       "\n",
       "    .dataframe thead th {\n",
       "        text-align: right;\n",
       "    }\n",
       "</style>\n",
       "<table border=\"1\" class=\"dataframe\">\n",
       "  <thead>\n",
       "    <tr style=\"text-align: right;\">\n",
       "      <th></th>\n",
       "      <th>column</th>\n",
       "      <th>missing_count</th>\n",
       "      <th>missing_rate_%</th>\n",
       "    </tr>\n",
       "  </thead>\n",
       "  <tbody>\n",
       "    <tr>\n",
       "      <th>0</th>\n",
       "      <td>Artist</td>\n",
       "      <td>5</td>\n",
       "      <td>0.11</td>\n",
       "    </tr>\n",
       "    <tr>\n",
       "      <th>1</th>\n",
       "      <td>Track</td>\n",
       "      <td>0</td>\n",
       "      <td>0.00</td>\n",
       "    </tr>\n",
       "    <tr>\n",
       "      <th>2</th>\n",
       "      <td>Album Name</td>\n",
       "      <td>0</td>\n",
       "      <td>0.00</td>\n",
       "    </tr>\n",
       "    <tr>\n",
       "      <th>3</th>\n",
       "      <td>ISRC</td>\n",
       "      <td>0</td>\n",
       "      <td>0.00</td>\n",
       "    </tr>\n",
       "    <tr>\n",
       "      <th>4</th>\n",
       "      <td>Explicit Track</td>\n",
       "      <td>0</td>\n",
       "      <td>0.00</td>\n",
       "    </tr>\n",
       "  </tbody>\n",
       "</table>\n",
       "</div>"
      ],
      "text/plain": [
       "           column  missing_count  missing_rate_%\n",
       "0          Artist              5            0.11\n",
       "1           Track              0            0.00\n",
       "2      Album Name              0            0.00\n",
       "3            ISRC              0            0.00\n",
       "4  Explicit Track              0            0.00"
      ]
     },
     "metadata": {},
     "output_type": "display_data"
    }
   ],
   "source": [
    "# Code để kiểm tra giá trị rỗng trong các cột phân loại\n",
    "\n",
    "# (Chọn theo kiểu) Coi là \"phân loại\" nếu dtype thuộc object/category/bool\n",
    "# categorical_cols = df.select_dtypes(include=[\"object\", \"category\", \"bool\"]).columns\n",
    "\n",
    "# (Chọn thủ công) Chọn đúng các cột phân loại: tên/bản ghi/định danh + explicit \n",
    "categorical_cols_defined = [\n",
    "    \"Track\",          # tên bài hát\n",
    "    \"Album Name\",     # tên album\n",
    "    \"Artist\",         # nghệ sĩ/nhóm\n",
    "    \"ISRC\",           # mã định danh bản ghi\n",
    "    \"Explicit Track\", # phân loại nhị phân\n",
    "]\n",
    "# check lại\n",
    "categorical_cols = [c for c in categorical_cols_defined if c in df.columns]\n",
    "\n",
    "# tính toán tỉ lệ rỗng + số lượng giá trị duy nhất\n",
    "missing_counts = df[categorical_cols].isna().sum()\n",
    "missing_rate = (missing_counts / len(df) * 100).round(2)\n",
    "\n",
    "categorical_missing_summary = (\n",
    "    pd.DataFrame({\n",
    "        \"column\": categorical_cols,\n",
    "        \"missing_count\": missing_counts.values,\n",
    "        \"missing_rate_%\": missing_rate.values,\n",
    "    })\n",
    "    .sort_values(\"missing_rate_%\", ascending=False)\n",
    "    .reset_index(drop=True)\n",
    ")\n",
    "\n",
    "print(\"Tóm tắt về dữ liệu rỗng trong các cột phân loại:\")\n",
    "display(categorical_missing_summary)\n"
   ]
  },
  {
   "cell_type": "markdown",
   "id": "b7_unique",
   "metadata": {},
   "source": [
    "##### 7.2. Số lượng giá trị khác nhau"
   ]
  },
  {
   "cell_type": "code",
   "execution_count": null,
   "id": "b7_unique_code",
   "metadata": {},
   "outputs": [
    {
     "name": "stdout",
     "output_type": "stream",
     "text": [
      "Tóm tắt về số giá trị khác nhau trong các cột phân loại:\n"
     ]
    },
    {
     "data": {
      "text/html": [
       "<div>\n",
       "<style scoped>\n",
       "    .dataframe tbody tr th:only-of-type {\n",
       "        vertical-align: middle;\n",
       "    }\n",
       "\n",
       "    .dataframe tbody tr th {\n",
       "        vertical-align: top;\n",
       "    }\n",
       "\n",
       "    .dataframe thead th {\n",
       "        text-align: right;\n",
       "    }\n",
       "</style>\n",
       "<table border=\"1\" class=\"dataframe\">\n",
       "  <thead>\n",
       "    <tr style=\"text-align: right;\">\n",
       "      <th></th>\n",
       "      <th>column</th>\n",
       "      <th>unique_count</th>\n",
       "      <th>unique_rate_%</th>\n",
       "    </tr>\n",
       "  </thead>\n",
       "  <tbody>\n",
       "    <tr>\n",
       "      <th>0</th>\n",
       "      <td>ISRC</td>\n",
       "      <td>4598</td>\n",
       "      <td>99.96</td>\n",
       "    </tr>\n",
       "    <tr>\n",
       "      <th>1</th>\n",
       "      <td>Track</td>\n",
       "      <td>4370</td>\n",
       "      <td>95.00</td>\n",
       "    </tr>\n",
       "    <tr>\n",
       "      <th>2</th>\n",
       "      <td>Album Name</td>\n",
       "      <td>4005</td>\n",
       "      <td>87.07</td>\n",
       "    </tr>\n",
       "    <tr>\n",
       "      <th>3</th>\n",
       "      <td>Artist</td>\n",
       "      <td>1999</td>\n",
       "      <td>43.46</td>\n",
       "    </tr>\n",
       "    <tr>\n",
       "      <th>4</th>\n",
       "      <td>Explicit Track</td>\n",
       "      <td>2</td>\n",
       "      <td>0.04</td>\n",
       "    </tr>\n",
       "  </tbody>\n",
       "</table>\n",
       "</div>"
      ],
      "text/plain": [
       "           column  unique_count  unique_rate_%\n",
       "0            ISRC          4598          99.96\n",
       "1           Track          4370          95.00\n",
       "2      Album Name          4005          87.07\n",
       "3          Artist          1999          43.46\n",
       "4  Explicit Track             2           0.04"
      ]
     },
     "metadata": {},
     "output_type": "display_data"
    }
   ],
   "source": [
    "# Code để kiểm tra số giá trị khác nhau và hiển thị một vài giá trị\n",
    "# Đếm số giá trị khác nhau và tỉ lệ so với tổng số hàng\n",
    "distinct_counts = df[categorical_cols].nunique(dropna=True)\n",
    "distinct_rate = (distinct_counts / len(df) * 100).round(2)\n",
    "\n",
    "distinct_summary = (\n",
    "    pd.DataFrame({\n",
    "        \"column\": categorical_cols,\n",
    "        \"unique_count\": distinct_counts.values,\n",
    "        \"unique_rate_%\": distinct_rate.values\n",
    "    })\n",
    "    .sort_values(\"unique_count\", ascending=False)\n",
    "    .reset_index(drop=True)\n",
    ")\n",
    "\n",
    "print(\"Tóm tắt về số giá trị khác nhau trong các cột phân loại:\")\n",
    "display(distinct_summary)\n"
   ]
  },
  {
   "cell_type": "markdown",
   "id": "b7_abnormal",
   "metadata": {},
   "source": [
    "##### 7.3. Các giá trị có bất thường không?"
   ]
  },
  {
   "cell_type": "markdown",
   "id": "b7_abnormal_analysis",
   "metadata": {},
   "source": [
    "**Nhận xét:**\n",
    "- *Thiếu dữ liệu rất thấp* ở nhóm phân loại: chỉ `Artist` thiếu 5 dòng (0.11%). 4 cột còn lại đủ 100%.\n",
    "- *`ISRC` gần như duy nhất* (4598/4600, ~99.96%), chỉ có *2 bản ghi trùng ISRC* => ISRC vốn là định danh bản ghi, *cần* kiểm tra cặp trùng này (có thể bị trùng hoặc là bản remake)\n",
    "- *`Track` (4370) và `Album Name` (4005)* không duy nhất: khả năng cao là bình thường vì nhiều track/album có nhiều phiên bản\n",
    "- *`Artist` = 1999*: hợp lý vì nhiều bài của cùng 1 nghệ sĩ; Nên chuẩn hoá tên (strip/casefold) trước khi thống kê theo tên nghệ sĩ.\n",
    "- *`Explicit Track` chỉ 2 giá trị (0/1)*: đúng với ý nghĩa của nó, dùng như biến phân loại nhị phân\n"
   ]
  },
  {
   "cell_type": "markdown",
   "id": "dfb4b62f",
   "metadata": {},
   "source": [
    "---"
   ]
  },
  {
   "cell_type": "markdown",
   "id": "c_questions",
   "metadata": {},
   "source": [
    "### C. Đặt câu hỏi có ý nghĩa"
   ]
  },
  {
   "cell_type": "markdown",
   "id": "c_intro",
   "metadata": {},
   "source": [
    "Nhóm đặt ra các câu hỏi sau để phân tích dữ liệu:"
   ]
  },
  {
   "cell_type": "markdown",
   "id": "c_q1",
   "metadata": {},
   "source": [
    "#### Câu hỏi 1: ..."
   ]
  },
  {
   "cell_type": "markdown",
   "id": "c_q1_benefit",
   "metadata": {},
   "source": [
    "**Lợi ích của việc trả lời câu hỏi này:** ..."
   ]
  },
  {
   "cell_type": "markdown",
   "id": "c_q2",
   "metadata": {},
   "source": [
    "#### Câu hỏi 2: ..."
   ]
  },
  {
   "cell_type": "markdown",
   "id": "c_q2_benefit",
   "metadata": {},
   "source": [
    "**Lợi ích của việc trả lời câu hỏi này:** ..."
   ]
  },
  {
   "cell_type": "markdown",
   "id": "c_q3",
   "metadata": {},
   "source": [
    "#### Câu hỏi 3: ..."
   ]
  },
  {
   "cell_type": "markdown",
   "id": "c_q3_benefit",
   "metadata": {},
   "source": [
    "**Lợi ích của việc trả lời câu hỏi này:** ..."
   ]
  },
  {
   "cell_type": "markdown",
   "id": "2ca3fb12",
   "metadata": {},
   "source": [
    "---"
   ]
  },
  {
   "cell_type": "markdown",
   "id": "d_analysis",
   "metadata": {},
   "source": [
    "### D. Tiền xử lý và phân tích dữ liệu để trả lời từng câu hỏi"
   ]
  },
  {
   "cell_type": "markdown",
   "id": "d_q1",
   "metadata": {},
   "source": [
    "#### Câu hỏi 1: ..."
   ]
  },
  {
   "cell_type": "markdown",
   "id": "d_q1_preprocessing",
   "metadata": {},
   "source": [
    "##### Tiền xử lý dữ liệu\n",
    "**Các bước tiền xử lý:**\n",
    "1. ...\n",
    "2. ...\n",
    "3. ..."
   ]
  },
  {
   "cell_type": "code",
   "execution_count": 17,
   "id": "d_q1_preprocessing_code",
   "metadata": {},
   "outputs": [],
   "source": [
    "# Code tiền xử lý cho câu hỏi 1"
   ]
  },
  {
   "cell_type": "markdown",
   "id": "d_q1_analysis",
   "metadata": {},
   "source": [
    "##### Phân tích dữ liệu\n",
    "**Các bước phân tích:**\n",
    "1. ...\n",
    "2. ...\n",
    "3. ..."
   ]
  },
  {
   "cell_type": "code",
   "execution_count": 18,
   "id": "d_q1_analysis_code",
   "metadata": {},
   "outputs": [],
   "source": [
    "# Code phân tích cho câu hỏi 1"
   ]
  },
  {
   "cell_type": "markdown",
   "id": "d_q1_result",
   "metadata": {},
   "source": [
    "##### Kết quả và nhận xét\n",
    "..."
   ]
  },
  {
   "cell_type": "markdown",
   "id": "d_q2",
   "metadata": {},
   "source": [
    "#### Câu hỏi 2: ..."
   ]
  },
  {
   "cell_type": "markdown",
   "id": "d_q2_preprocessing",
   "metadata": {},
   "source": [
    "##### Tiền xử lý dữ liệu\n",
    "**Các bước tiền xử lý:**\n",
    "1. ...\n",
    "2. ...\n",
    "3. ..."
   ]
  },
  {
   "cell_type": "code",
   "execution_count": 19,
   "id": "d_q2_preprocessing_code",
   "metadata": {},
   "outputs": [],
   "source": [
    "# Code tiền xử lý cho câu hỏi 2"
   ]
  },
  {
   "cell_type": "markdown",
   "id": "d_q2_analysis",
   "metadata": {},
   "source": [
    "##### Phân tích dữ liệu\n",
    "**Các bước phân tích:**\n",
    "1. ...\n",
    "2. ...\n",
    "3. ..."
   ]
  },
  {
   "cell_type": "code",
   "execution_count": 20,
   "id": "d_q2_analysis_code",
   "metadata": {},
   "outputs": [],
   "source": [
    "# Code phân tích cho câu hỏi 2"
   ]
  },
  {
   "cell_type": "markdown",
   "id": "d_q2_result",
   "metadata": {},
   "source": [
    "##### Kết quả và nhận xét\n",
    "..."
   ]
  },
  {
   "cell_type": "markdown",
   "id": "d_q3",
   "metadata": {},
   "source": [
    "#### Câu hỏi 3: ..."
   ]
  },
  {
   "cell_type": "markdown",
   "id": "d_q3_preprocessing",
   "metadata": {},
   "source": [
    "##### Tiền xử lý dữ liệu\n",
    "**Các bước tiền xử lý:**\n",
    "1. ...\n",
    "2. ...\n",
    "3. ..."
   ]
  },
  {
   "cell_type": "code",
   "execution_count": 21,
   "id": "d_q3_preprocessing_code",
   "metadata": {},
   "outputs": [],
   "source": [
    "# Code tiền xử lý cho câu hỏi 3"
   ]
  },
  {
   "cell_type": "markdown",
   "id": "d_q3_analysis",
   "metadata": {},
   "source": [
    "##### Phân tích dữ liệu\n",
    "**Các bước phân tích:**\n",
    "1. ...\n",
    "2. ...\n",
    "3. ..."
   ]
  },
  {
   "cell_type": "code",
   "execution_count": 22,
   "id": "d_q3_analysis_code",
   "metadata": {},
   "outputs": [],
   "source": [
    "# Code phân tích cho câu hỏi 3"
   ]
  },
  {
   "cell_type": "markdown",
   "id": "d_q3_result",
   "metadata": {},
   "source": [
    "##### Kết quả và nhận xét\n",
    "..."
   ]
  },
  {
   "cell_type": "markdown",
   "id": "b0b74b9c",
   "metadata": {},
   "source": [
    "---"
   ]
  },
  {
   "cell_type": "markdown",
   "id": "e_reflection",
   "metadata": {},
   "source": [
    "### E. Phản hồi"
   ]
  },
  {
   "cell_type": "markdown",
   "id": "e_member1",
   "metadata": {},
   "source": [
    "#### Thành viên: Đoàn Hải Nam (23122011)"
   ]
  },
  {
   "cell_type": "markdown",
   "id": "e_member1_difficulties",
   "metadata": {},
   "source": [
    "**Khó khăn gặp phải:** ..."
   ]
  },
  {
   "cell_type": "markdown",
   "id": "e_member1_learned",
   "metadata": {},
   "source": [
    "**Điều đã học được:** ..."
   ]
  },
  {
   "cell_type": "markdown",
   "id": "e_member2",
   "metadata": {},
   "source": [
    "#### Thành viên: Hoàng Minh Trung (23122014)"
   ]
  },
  {
   "cell_type": "markdown",
   "id": "e_member2_difficulties",
   "metadata": {},
   "source": [
    "**Khó khăn gặp phải:** ..."
   ]
  },
  {
   "cell_type": "markdown",
   "id": "e_member2_learned",
   "metadata": {},
   "source": [
    "**Điều đã học được:** ..."
   ]
  },
  {
   "cell_type": "markdown",
   "id": "e_member3",
   "metadata": {},
   "source": [
    "#### Thành viên: Nguyễn Ngọc Khoa (23122036)"
   ]
  },
  {
   "cell_type": "markdown",
   "id": "e_member3_difficulties",
   "metadata": {},
   "source": [
    "**Khó khăn gặp phải:** ..."
   ]
  },
  {
   "cell_type": "markdown",
   "id": "e_member3_learned",
   "metadata": {},
   "source": [
    "**Điều đã học được:** ..."
   ]
  },
  {
   "cell_type": "markdown",
   "id": "e_group",
   "metadata": {},
   "source": [
    "#### Cả nhóm"
   ]
  },
  {
   "cell_type": "markdown",
   "id": "e_group_future",
   "metadata": {},
   "source": [
    "**Nếu có thêm thời gian, nhóm sẽ:** ..."
   ]
  },
  {
   "cell_type": "markdown",
   "id": "69d6b4f2",
   "metadata": {},
   "source": [
    "---"
   ]
  },
  {
   "cell_type": "markdown",
   "id": "f_references",
   "metadata": {},
   "source": [
    "### F. Tài liệu tham khảo"
   ]
  },
  {
   "cell_type": "markdown",
   "id": "f_references_list",
   "metadata": {},
   "source": [
    "1. ...\n",
    "2. ...\n",
    "3. ..."
   ]
  }
 ],
 "metadata": {
  "kernelspec": {
   "display_name": ".venv",
   "language": "python",
   "name": "python3"
  },
  "language_info": {
   "codemirror_mode": {
    "name": "ipython",
    "version": 3
   },
   "file_extension": ".py",
   "mimetype": "text/x-python",
   "name": "python",
   "nbconvert_exporter": "python",
   "pygments_lexer": "ipython3",
   "version": "3.12.3"
  }
 },
 "nbformat": 4,
 "nbformat_minor": 5
}
